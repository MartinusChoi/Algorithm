{
 "cells": [
  {
   "cell_type": "markdown",
   "metadata": {},
   "source": [
    "# 3-1. 리스트\n",
    "\n",
    "`list` : 순서대로 저장하는 시퀀스 (Mutable List)\n",
    "- 입력 순서 유지\n",
    "- 내부적으로는 **동적 배열**로 구현되어 있음.\n",
    "- `스택(stack)`과 `큐(Queue)`에서 사용하는 모든 연산을 함께 제공함.\n",
    "\n",
    "---"
   ]
  },
  {
   "cell_type": "markdown",
   "metadata": {},
   "source": [
    "## 3-1-1 리스트 활용 방법"
   ]
  },
  {
   "cell_type": "markdown",
   "metadata": {},
   "source": [
    "### 3-1-1-1 선언"
   ]
  },
  {
   "cell_type": "code",
   "execution_count": 7,
   "metadata": {},
   "outputs": [],
   "source": [
    "# Case 1\n",
    "a = list()\n",
    "\n",
    "# Case 2\n",
    "a = []\n",
    "\n",
    "# Case 3\n",
    "a = [1, 2, 3]"
   ]
  },
  {
   "cell_type": "markdown",
   "metadata": {},
   "source": [
    "### 3-1-1-2 값 추가\n",
    "\n",
    "- **append()** : (value)의 형태로 사용, list의 마지막에 value를 추가\n",
    "    - 파이썬 `list`는 다양한 자료형의 값을 하나의 list에 추가할 수 있음.\n",
    "- **insert()** : (index, value)의 형태로 사용, 특정 위치에 값을 삽입할 수 있음."
   ]
  },
  {
   "cell_type": "code",
   "execution_count": 8,
   "metadata": {},
   "outputs": [
    {
     "name": "stdout",
     "output_type": "stream",
     "text": [
      "[1, 2, 3, 4]\n",
      "[1, 2, 3, 5, 4]\n",
      "[1, 2, 3, 5, 4, 'hello', True]\n"
     ]
    }
   ],
   "source": [
    "# append\n",
    "a.append(4)\n",
    "print(a)\n",
    "\n",
    "# insert\n",
    "a.insert(3, 5)\n",
    "print(a)\n",
    "\n",
    "# append differt types value in list\n",
    "a.append('hello')\n",
    "a.append(True)\n",
    "print(a)"
   ]
  },
  {
   "cell_type": "markdown",
   "metadata": {},
   "source": [
    "### 3-1-1-3 값 조회"
   ]
  },
  {
   "cell_type": "code",
   "execution_count": 9,
   "metadata": {},
   "outputs": [
    {
     "name": "stdout",
     "output_type": "stream",
     "text": [
      "5\n",
      "[2, 3]\n",
      "[1, 2, 3]\n",
      "[4, 'hello', True]\n",
      "[2, 5]\n"
     ]
    }
   ],
   "source": [
    "# find value with index\n",
    "print(a[3])\n",
    "\n",
    "# slicing\n",
    "# find (i~j-1) with a[i, j]\n",
    "print(a[1:3])\n",
    "print(a[:3])\n",
    "print(a[4:])\n",
    "print(a[1:4:2]) # [start index : end index : step]"
   ]
  },
  {
   "cell_type": "code",
   "execution_count": 10,
   "metadata": {},
   "outputs": [
    {
     "name": "stdout",
     "output_type": "stream",
     "text": [
      "None excist index\n"
     ]
    }
   ],
   "source": [
    "# avoid Traceback\n",
    "try :\n",
    "    print(a[9])\n",
    "except :\n",
    "    print(\"None excist index\")"
   ]
  },
  {
   "cell_type": "markdown",
   "metadata": {},
   "source": [
    "### 3-1-1-4 값 삭제\n",
    "\n",
    "- **del** : 특정 인덱스의 값 삭제\n",
    "- **remove** : 특정 값에 해당하는 요소 삭제"
   ]
  },
  {
   "cell_type": "code",
   "execution_count": 11,
   "metadata": {},
   "outputs": [
    {
     "name": "stdout",
     "output_type": "stream",
     "text": [
      "[1, 2, 3, 5, 4, 'hello', True]\n",
      "[1, 3, 5, 4, 'hello', True]\n",
      "[1, 3, 5, 4, 'hello', True]\n",
      "[1, 5, 4, 'hello', True]\n"
     ]
    }
   ],
   "source": [
    "# remove with index\n",
    "print(a)\n",
    "del a[1]\n",
    "print(a)\n",
    "\n",
    "# remove with value\n",
    "print(a)\n",
    "a.remove(3)\n",
    "print(a)"
   ]
  },
  {
   "cell_type": "markdown",
   "metadata": {},
   "source": [
    "---\n",
    "\n",
    "## 3-1-2 리스트의 특징\n",
    "\n"
   ]
  },
  {
   "cell_type": "markdown",
   "metadata": {},
   "source": [
    "`list` : 파이썬 리스트는 **객체에 대한 포인터 목록**을 관리하는 형태로 구현됨.\n",
    "- 사실상 연결 리스트에 포인터 목록을 배열형태로 관리함.\n",
    "    - 이러한 특성 때문에 **다양한 자료형의 값을 하나의 리스트에서 관리**하는 것이 가능해짐.\n",
    "- 다만, 리스트가 각각의 객체에 대한 참조로 구현되기 때문에, 연산 속도가 느려지게 됨.\n",
    "    - 속도를 희생하고 기능을 강화한 케이스라고 이해할 수 있음."
   ]
  },
  {
   "cell_type": "markdown",
   "metadata": {},
   "source": [
    "---\n",
    "### 리스트의 주요 연산 시간 복잡도\n",
    "\n",
    "| 연산 | 시간 복잡도 | 설명 |\n",
    "| :--: | :--------: | :--: |\n",
    "| `len(a)` | O(1) | 전체 요소의 개수를 리턴 |\n",
    "| `a[i]` | O(1) | 인덱스 `i` 의 요소를 가져옴 |\n",
    "| `a[i:j]` | O(k) | `i`부터 `j`까지 슬라이스의 길이만큼 인 `k`개의 요소를 가져옴. 객체 `k`개에 대한 조회가 필요하므로 `O(k)`임|\n",
    "| `elem in a` | O(n) | `elem` 요소가 리스트에 내 있는지 검사. 처음부터 순차적으로 확인하므로 `n`만큼 시간이 소요됨. |\n",
    "| `a.count(elem)` | O(n) | `elem` 요소의 개수를 리턴 |\n",
    "| `a.index(elem)` | O(n) | `elem` 요소의 인덱스를 리턴 |\n",
    "| `a.append(elem)` | O(n) | 리스트 마지막에 `elem` 요소를 추가|\n",
    "| `a.pop()` | O(1) | 리스트 마지막 요소 추출 (스택 연산) |\n",
    "| `a.pop(0)` | O(n) | 리스트의 첫번째 요소 추출 (큐 연산), 전체 복사가 필요하기 때문에 O(n) |\n",
    "| `del a[i]` | O(n) | i에 따라 다르나, 최악의 경우 O(n)임|\n",
    "| `a.sort()` | O(nlogn) | 정렬, 팀소트(Timesort)를 사용, 최선의 경우 O(n) 가능|\n",
    "| `min(a), max(a)` | O(n) | 최솟값, 최댓값을 계산, 리스트 전체를 선형조회 해야함 |\n",
    "| `a.reverse()` | O(n) | 리스트를 뒤집음 |\n"
   ]
  }
 ],
 "metadata": {
  "kernelspec": {
   "display_name": "ml_env",
   "language": "python",
   "name": "python3"
  },
  "language_info": {
   "codemirror_mode": {
    "name": "ipython",
    "version": 3
   },
   "file_extension": ".py",
   "mimetype": "text/x-python",
   "name": "python",
   "nbconvert_exporter": "python",
   "pygments_lexer": "ipython3",
   "version": "3.11.4"
  },
  "orig_nbformat": 4
 },
 "nbformat": 4,
 "nbformat_minor": 2
}
