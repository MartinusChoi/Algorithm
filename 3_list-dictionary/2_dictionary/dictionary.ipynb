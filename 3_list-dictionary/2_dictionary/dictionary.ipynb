{
 "cells": [
  {
   "cell_type": "markdown",
   "metadata": {},
   "source": [
    "# 3-2. 딕셔너리\n",
    "---\n"
   ]
  },
  {
   "cell_type": "markdown",
   "metadata": {},
   "source": [
    "**dictionary** : `key` / `value` 구조로 구성.\n",
    "- 파이썬 3.7 이상에서는 입력 순서가 유지\n",
    "- 내부적으로 <u>해시 테이블(Hash Table)</u>로 구현\n",
    "- 문자를 포함해 다양한 타입을 key로 사용 가능.\n",
    "    - 인덱스를 숫자로만 지정할 수 있는 리스트와는 대조적\n",
    "    - 문자, 집합 등 해시가 가능한 불변 객체를 모두 key로 사용할 수 있다. (이 과정을 **해싱**이라고 함.)\n",
    "    - 거의 대부분의 경우 **`O(1)`의 복잡도로 입력/조회가 가능한 우수한 자료형**\n",
    "        - 해시 테이블은 최악의 경우 `O(n)`이나, 분할 상환 분석에 따르면 `O(1)`에 해당함."
   ]
  },
  {
   "cell_type": "markdown",
   "metadata": {},
   "source": [
    "## 3-2-1 딕셔너리의 활용 방법"
   ]
  },
  {
   "cell_type": "markdown",
   "metadata": {},
   "source": [
    "### 3-2-1-1 선언"
   ]
  },
  {
   "cell_type": "code",
   "execution_count": 1,
   "metadata": {},
   "outputs": [
    {
     "name": "stdout",
     "output_type": "stream",
     "text": [
      "{'key1': 'value1', 'key2': 'value2'}\n"
     ]
    }
   ],
   "source": [
    "# Case 1\n",
    "a = dict()\n",
    "\n",
    "# Case 2\n",
    "a = {}\n",
    "\n",
    "# Case 3\n",
    "a = {'key1':'value1', 'key2':'value2'}\n",
    "print(a)"
   ]
  },
  {
   "cell_type": "markdown",
   "metadata": {},
   "source": [
    "- 나중에 별도로 키와 값을 추가할 수 있다."
   ]
  },
  {
   "cell_type": "code",
   "execution_count": 2,
   "metadata": {},
   "outputs": [
    {
     "name": "stdout",
     "output_type": "stream",
     "text": [
      "{'key1': 'value1', 'key2': 'value2', 'key3': 'value3'}\n"
     ]
    }
   ],
   "source": [
    "a['key3'] = 'value3'\n",
    "print(a)"
   ]
  },
  {
   "cell_type": "markdown",
   "metadata": {},
   "source": [
    "### 3-2-1-2 조회\n",
    "\n",
    "딕셔너리에서 존재하지 않는 키를 조회하면 **keyError**가 발생.\n",
    "- 리스트에서는 존재하지 않는 인덱스를 조회하면 **IndexError**가 발생.\n",
    "- 예외 처리를 통해 에러 발생을 방지할 수 있다. (`try`, `except` 구문)\n",
    "    - 미리 해당 키가 존재하는지 검사도 가능 (`key in a` 구문)"
   ]
  },
  {
   "cell_type": "code",
   "execution_count": 4,
   "metadata": {},
   "outputs": [
    {
     "name": "stdout",
     "output_type": "stream",
     "text": [
      "value1\n",
      "None Excist Key\n"
     ]
    }
   ],
   "source": [
    "# search\n",
    "print(a['key1'])\n",
    "try :\n",
    "    print(a['key4'])\n",
    "except :\n",
    "    print('None Excist Key')"
   ]
  },
  {
   "cell_type": "code",
   "execution_count": 5,
   "metadata": {},
   "outputs": [
    {
     "name": "stdout",
     "output_type": "stream",
     "text": [
      "False\n"
     ]
    }
   ],
   "source": [
    "print('key4' in a)"
   ]
  },
  {
   "cell_type": "markdown",
   "metadata": {},
   "source": [
    "- `for` 문을 이용하여 키/값을 조회할 수 있다.\n",
    "    - 딕셔너리에 `.items()` 함수를 활용함"
   ]
  },
  {
   "cell_type": "code",
   "execution_count": 7,
   "metadata": {},
   "outputs": [
    {
     "name": "stdout",
     "output_type": "stream",
     "text": [
      "key1 value1\n",
      "key2 value2\n",
      "key3 value3\n"
     ]
    }
   ],
   "source": [
    "for key, val in a.items():\n",
    "    print(key, val)"
   ]
  },
  {
   "cell_type": "markdown",
   "metadata": {},
   "source": [
    "- `del` 구문을 이용하여 해당 키값을 삭제할 수 있음."
   ]
  },
  {
   "cell_type": "code",
   "execution_count": 8,
   "metadata": {},
   "outputs": [
    {
     "name": "stdout",
     "output_type": "stream",
     "text": [
      "{'key2': 'value2', 'key3': 'value3'}\n"
     ]
    }
   ],
   "source": [
    "del a['key1']\n",
    "print(a)"
   ]
  },
  {
   "cell_type": "markdown",
   "metadata": {},
   "source": [
    "## 3-2-2 딕셔너리 모듈\n",
    "\n",
    "- 딕셔너리와 관련된 특수한 형태의 컨테이너 자료형\n",
    "    - `defaultdict`, `Counter`, `OrderDict`"
   ]
  },
  {
   "cell_type": "markdown",
   "metadata": {},
   "source": [
    "### 3-2-2-1 defaultdict 객체\n",
    "\n",
    "`defalutdict`\n",
    "- 존재하지 않는 키 조회 시, 에러 출력 대신 디폴트 값 기준 해당 키에 대한 딕셔너리 아이템 생성.\n",
    "- 실제론, `collections.defaultdict` 클래스를 가짐"
   ]
  },
  {
   "cell_type": "code",
   "execution_count": 9,
   "metadata": {},
   "outputs": [
    {
     "data": {
      "text/plain": [
       "defaultdict(int, {'A': 5, 'B': 4})"
      ]
     },
     "execution_count": 9,
     "metadata": {},
     "output_type": "execute_result"
    }
   ],
   "source": [
    "import collections\n",
    "\n",
    "a = collections.defaultdict(int)\n",
    "a['A'] = 5\n",
    "a['B'] = 4\n",
    "a"
   ]
  },
  {
   "cell_type": "code",
   "execution_count": 10,
   "metadata": {},
   "outputs": [
    {
     "data": {
      "text/plain": [
       "defaultdict(int, {'A': 5, 'B': 4, 'C': 1})"
      ]
     },
     "execution_count": 10,
     "metadata": {},
     "output_type": "execute_result"
    }
   ],
   "source": [
    "a['C'] += 1\n",
    "a"
   ]
  },
  {
   "cell_type": "markdown",
   "metadata": {},
   "source": [
    "dictionary의 경우 위의 코드에서 keyError가 발생해야 했지만, \n",
    "- `defaultdict` 객체는 에러없이 디폴트 값인 0을 자동으로 생성,\n",
    "    = 해당 값에 `+=1` 연산을 수행하여 아이템을 추가함."
   ]
  },
  {
   "cell_type": "markdown",
   "metadata": {},
   "source": [
    "### 3-2-2-2 Counter 객체\n",
    "\n",
    "`Counter` : **아이템에 대한 개수를 계산**해 <u>딕셔너리로 리턴</u>함.\n",
    "- key에 아이템의 값, value에 해당 아이템의 개수가 들어간 딕셔너리 리턴\n",
    "- 딕셔너리를 한 번 더 래핑(Wrapping)한 `collections.Counter` 클래스를 가짐"
   ]
  },
  {
   "cell_type": "code",
   "execution_count": 11,
   "metadata": {},
   "outputs": [
    {
     "data": {
      "text/plain": [
       "Counter({5: 3, 6: 2, 1: 1, 2: 1, 3: 1, 4: 1})"
      ]
     },
     "execution_count": 11,
     "metadata": {},
     "output_type": "execute_result"
    }
   ],
   "source": [
    "a = [1, 2, 3, 4, 5, 5, 5, 6, 6]\n",
    "b = collections.Counter(a)\n",
    "b"
   ]
  },
  {
   "cell_type": "markdown",
   "metadata": {},
   "source": [
    "- 가장 빈도 수 높은 요소 추출\n",
    "    - `most_common()` 사용"
   ]
  },
  {
   "cell_type": "code",
   "execution_count": 12,
   "metadata": {},
   "outputs": [
    {
     "data": {
      "text/plain": [
       "[(5, 3), (6, 2)]"
      ]
     },
     "execution_count": 12,
     "metadata": {},
     "output_type": "execute_result"
    }
   ],
   "source": [
    "b.most_common(2) # (n) -> 빈도수 높은 n개 추출"
   ]
  },
  {
   "cell_type": "markdown",
   "metadata": {},
   "source": [
    "### 3-2-2-3 OrderDict 객체\n",
    "\n",
    "**OrderDict** : 입력 순서가 그대로 유지되는 익셔너리\n",
    "- 3.7 버전 이상에서는 딕셔너리가 입력 순서를 유지하기에 3.6 버전 이하에서만 효용성을 가짐."
   ]
  },
  {
   "cell_type": "code",
   "execution_count": 13,
   "metadata": {},
   "outputs": [
    {
     "data": {
      "text/plain": [
       "OrderedDict([('banana', 3), ('apple', 4), ('pear', 1), ('orange', 2)])"
      ]
     },
     "execution_count": 13,
     "metadata": {},
     "output_type": "execute_result"
    }
   ],
   "source": [
    "collections.OrderedDict({'banana' : 3, 'apple' : 4, 'pear' : 1, 'orange' : 2})"
   ]
  },
  {
   "cell_type": "markdown",
   "metadata": {},
   "source": [
    "---\n",
    "\n",
    "### 딕셔너리 주요 연산 시간 복잡도\n",
    "\n",
    "| 연산 | 시간 복잡도 | 설명 |\n",
    "| :--: | :--------: | :--: |\n",
    "| `len(a)` | O(1) | 요소의 개수를 리턴 |\n",
    "| `a[key]` | O(1) | 키 조회, 해당하는 값 리턴 |\n",
    "| `a[key] = value` | O(1) | 키/값 삽입 |\n",
    "| `key in a` | O(1) | 딕셔너리에 키가 존재하는 지 확인 |"
   ]
  }
 ],
 "metadata": {
  "kernelspec": {
   "display_name": "ml_env",
   "language": "python",
   "name": "python3"
  },
  "language_info": {
   "codemirror_mode": {
    "name": "ipython",
    "version": 3
   },
   "file_extension": ".py",
   "mimetype": "text/x-python",
   "name": "python",
   "nbconvert_exporter": "python",
   "pygments_lexer": "ipython3",
   "version": "3.11.4"
  },
  "orig_nbformat": 4
 },
 "nbformat": 4,
 "nbformat_minor": 2
}
