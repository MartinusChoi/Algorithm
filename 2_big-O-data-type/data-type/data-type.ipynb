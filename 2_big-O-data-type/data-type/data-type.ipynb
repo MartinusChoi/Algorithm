{
 "cells": [
  {
   "cell_type": "markdown",
   "metadata": {},
   "source": [
    "# 2-2. 자료형\n",
    "---"
   ]
  },
  {
   "cell_type": "markdown",
   "metadata": {},
   "source": [
    "## 2-2-1. 파이썬 자료형\n",
    "\n",
    "### 파이썬3 표준 타입 계층 구조\n",
    "\n",
    "1. None\n",
    "\n",
    "| 구분 | 자료형 | 클래스 |\n",
    "| :--: | :---: | :---: |\n",
    "| None | **None** | `class None Type` |\n",
    "\n",
    "2. 숫자\n",
    "\n",
    "| 구분 | 자료형 | 클래스 |\n",
    "| :--: | :---: | :---: |\n",
    "| 정수형 | **정수** | `class int` |\n",
    "| 정수형 | **불리언** | `class bool` |\n",
    "| 실수   | **실수**  | `class float` |\n",
    "\n",
    "3. 집합형\n",
    "\n",
    "| 구분 | 자료형 | 클래스 |\n",
    "| :--: | :---: | :---: |\n",
    "| 집합형 | **집합** | `class set` |\n",
    "\n",
    "4. 매핑\n",
    "\n",
    "| 구분 | 자료형 | 클래스 |\n",
    "| :--: | :---: | :---: |\n",
    "| 매핑 | 딕셔너리 | `class dict` |\n",
    "\n",
    "5. 시퀀스\n",
    "\n",
    "| 구분 | 자료형 | 클래스 |\n",
    "| :--: | :---: | :---: |\n",
    "| 불변 | 문자열 | `class str` |\n",
    "| 불변 | 튜플   | `class tuple` |\n",
    "| 불변 | 바이트 | `class bytes` |\n",
    "| 가변 | 리스트 | `class list` |"
   ]
  },
  {
   "cell_type": "markdown",
   "metadata": {},
   "source": [
    "### 2-2-1-1 숫자\n",
    "\n",
    "`int` : 파이썬에서는 숫자 정수형으로 `int`만 제공\n",
    "- 파이썬2 까지는 `int`는 고정 정밀도(Fixed-Precision), `long`은 임의 정밀도(Arbitary-Precision)으로 별도 지원하였음.\n",
    "- 그러나 파이썬3 에서부터는 <u>`int` 단일형으로 통합</u>되었으며 <u>임의 정밀도</u>를 지원하게 되었음.\n",
    "    - **임의 정밀도 정수형** : 무제한 자릿수를 제공하는 정수형, 정수를 숫자의 배열로 간주함.\n",
    "        - 자릿수 단위로 구분한 값을 별도로 계산하여 큰 값을 나타냄.;\n",
    "        - 이러한 방식은 계산 속도가 저하되지만 숫자를 단일형으로 처리할 수 있음.\n",
    "        - 사용자 입장에서도 자료형의 오버플로를 걱정하지 않아도 되게 됨으로써, 속도를 희생하여 기능과 안전을 채택한 경우라고 볼 수 있음."
   ]
  },
  {
   "cell_type": "markdown",
   "metadata": {},
   "source": [
    "`bool` : 논리 자료형이지만, 파이썬에서는 내부적으로 1(True)과 0(False)으로 처리되는 **int의 서브 클래스** 이다.\n",
    "- `int`는 `object`의 하위 클래스이기도 하기 때문에 결국 다음과 같은 구조를 띤다.\n",
    "    - `object` > `int` > `bool`\n",
    "- 다음의 코드를 살펴보면 정수와 비교연산이 되는 것을 살펴볼 수 있다."
   ]
  },
  {
   "cell_type": "code",
   "execution_count": 1,
   "metadata": {},
   "outputs": [
    {
     "name": "stdout",
     "output_type": "stream",
     "text": [
      "True\n",
      "True\n"
     ]
    }
   ],
   "source": [
    "print(True == 1)\n",
    "print(False == 0)"
   ]
  },
  {
   "cell_type": "markdown",
   "metadata": {},
   "source": [
    "### 2-2-1-2 매핑\n",
    "\n",
    "`mapping Type` : '키'와 '자료형'으로 구성된 복합 자료형\n",
    "- `dict` : 파이썬에 내장된 유일한 매핑 자료형"
   ]
  },
  {
   "cell_type": "markdown",
   "metadata": {},
   "source": [
    "### 2-2-1-3 집합\n",
    "\n",
    "`set` : 중복된 값을 갖지 않는 자료형"
   ]
  },
  {
   "cell_type": "markdown",
   "metadata": {},
   "source": [
    "빈 집합은 다음과 같이 선언됨."
   ]
  },
  {
   "cell_type": "code",
   "execution_count": 2,
   "metadata": {},
   "outputs": [],
   "source": [
    "a = set()\n"
   ]
  },
  {
   "cell_type": "code",
   "execution_count": 3,
   "metadata": {},
   "outputs": [
    {
     "data": {
      "text/plain": [
       "set()"
      ]
     },
     "execution_count": 3,
     "metadata": {},
     "output_type": "execute_result"
    }
   ],
   "source": [
    "a"
   ]
  },
  {
   "cell_type": "code",
   "execution_count": 4,
   "metadata": {},
   "outputs": [
    {
     "data": {
      "text/plain": [
       "set"
      ]
     },
     "execution_count": 4,
     "metadata": {},
     "output_type": "execute_result"
    }
   ],
   "source": [
    "type(a)"
   ]
  },
  {
   "cell_type": "markdown",
   "metadata": {},
   "source": [
    "값이 포함된 집합을 선언할 때는 다음과 같이 선언함."
   ]
  },
  {
   "cell_type": "code",
   "execution_count": 5,
   "metadata": {},
   "outputs": [],
   "source": [
    "a = {1, 2, 3}"
   ]
  },
  {
   "cell_type": "markdown",
   "metadata": {},
   "source": [
    "set은 입력순서가 유지되지 않음.\n",
    "- 중복된 값이 있을 경우 하나의 값만 유지"
   ]
  },
  {
   "cell_type": "code",
   "execution_count": 7,
   "metadata": {},
   "outputs": [
    {
     "data": {
      "text/plain": [
       "{2, 3, 5}"
      ]
     },
     "execution_count": 7,
     "metadata": {},
     "output_type": "execute_result"
    }
   ],
   "source": [
    "a = {3, 2, 3, 5}\n",
    "\n",
    "a"
   ]
  },
  {
   "cell_type": "markdown",
   "metadata": {},
   "source": [
    "### 2-2-1-4 시퀀스\n",
    "\n",
    "`Sequence` : 어떤 특정 대상의 순서 있는 나열\n",
    "- 파이썬에서는 `list`라는 **시퀀스 타입**이 사실상 **배열**의 역할을 수행함."
   ]
  },
  {
   "cell_type": "markdown",
   "metadata": {},
   "source": [
    "시퀀스는 **불변(Immutable)** 과 **가변(Mutable)** 으로 구분됨.\n",
    "- 불변 시퀀스 : `str`, `tuple`, `bytes`\n",
    "    - 불변 시퀀스 타입으로 선언된 값은 변경되지 못함.\n",
    "        - 다른 시퀀스 타입의 값을 참조하도록 바뀌는 것 뿐임.\n",
    "- 가변 시퀀스 : `list`"
   ]
  },
  {
   "cell_type": "markdown",
   "metadata": {},
   "source": [
    "### 2-2-1-5 객체 (object)"
   ]
  },
  {
   "cell_type": "markdown",
   "metadata": {},
   "source": [
    "파이썬은 모든 것이 **객체(Object)** 임.\n",
    "- 파이썬에서 변수를 할당하는 작업은 **해당 객체에 대해 참조를 한다는 의미**\n",
    "- `불변 객체(Immutable Object)` 와 `가변 객체(Mutable Object)`로 구분할 수 있음.\n",
    "- 파이썬 자료형의 <u>불변 객체</u> 여부는 다음과 같다.\n",
    "\n",
    "| 클래스 | 설명 | 불변 객체 여부 |\n",
    "| :---: | :---: | :---: |\n",
    "| `bool` | 불 (불리언) | O |\n",
    "| `int` | 정수 | O |\n",
    "| `float` | 실수 | O |\n",
    "| `list` | 리스트 | X |\n",
    "| `tuple` | 리스트와의 차이는 불변 여부. 튜플은 생성 시 설정한 값 변경 불가능 | O |\n",
    "| `str` | 문자 | O |\n",
    "| `set` | 중복된 값을 갖지 않는 집합 자료형 | X |\n",
    "| `dict` | 딕셔너리 | X |"
   ]
  },
  {
   "cell_type": "markdown",
   "metadata": {},
   "source": [
    "- `불변 객체(Immutable Object)` : 값이 변하지 않는 객체"
   ]
  },
  {
   "cell_type": "code",
   "execution_count": 8,
   "metadata": {},
   "outputs": [
    {
     "name": "stdout",
     "output_type": "stream",
     "text": [
      "140713376453704 140713376453704 140713376453704\n"
     ]
    }
   ],
   "source": [
    "# id() -> 메모리 상에 위치한 객체의 주소를 얻어오는 함수\n",
    "10\n",
    "a = 10\n",
    "b = a\n",
    "print(id(10), id(a), id(b))"
   ]
  },
  {
   "cell_type": "markdown",
   "metadata": {},
   "source": [
    "이렇게 `10` 이라는 숫자를 `a`에 할당하고 `b`에 `a`를 할당했다.\n",
    "- 주소가 모두 동일하다는 것은 각각 값에 새롭게 메모리를 할당하는 대신에,\n",
    "    - **해당 값에 해당하는 객체를 참조**하도록 한다는 것을 의미함.\n",
    "\n",
    "다만, 숫자와 분자는 불변 객체이기 때문에 값을 변경할 수 는 없다.\n",
    "- 해당 변수의 값을 바꾸는 것은 객체의 값을 바꾸는 것이 아닌 **다른 값을 가진 객체를 참조하도록 하는 것**을 의미."
   ]
  },
  {
   "cell_type": "markdown",
   "metadata": {},
   "source": [
    "- `가변 객체(Mutable Object)` : 값을 변경할 수 있는 객체"
   ]
  },
  {
   "cell_type": "code",
   "execution_count": 12,
   "metadata": {},
   "outputs": [
    {
     "name": "stdout",
     "output_type": "stream",
     "text": [
      "a : [1, 2, 3, 4, 5] | b : [1, 2, 3, 4, 5]\n"
     ]
    }
   ],
   "source": [
    "a = [1, 2, 3, 4, 5]\n",
    "b = a\n",
    "print(f\"a : {a} | b : {b}\")"
   ]
  },
  {
   "cell_type": "code",
   "execution_count": 13,
   "metadata": {},
   "outputs": [
    {
     "name": "stdout",
     "output_type": "stream",
     "text": [
      "a : [1, 2, 4, 4, 5] | b : [1, 2, 4, 4, 5]\n"
     ]
    }
   ],
   "source": [
    "a[2] = 4\n",
    "print(f\"a : {a} | b : {b}\")"
   ]
  },
  {
   "cell_type": "markdown",
   "metadata": {},
   "source": [
    "위와 같이 `list`는 가변 객체 이기 때문에 `b`의 값을 `a`의 값으로 변경하지 않아도,\n",
    "- `a`가 참조하고 있는 `list` 객체 자체의 값이 변경되었기 때문에,\n",
    "- `b`와 `a`가 동일하게 변경된 값을 가진 `list` 객체를 출력할 것을 볼 수 있음."
   ]
  },
  {
   "cell_type": "markdown",
   "metadata": {},
   "source": [
    "#### 문법) `is` 와 `==`"
   ]
  },
  {
   "cell_type": "markdown",
   "metadata": {},
   "source": [
    "`is` 와 `==` : 비교 연산자.\n",
    "- `is` : id() 값을 비교하는 함수. 같은 메모리 주소의 객체를 참조하는 지 비교함.\n",
    "    - `None`은 값 자체가 정의되어있지 않기 때문에 값을 비교하는 `==`로 비교할 수 없음, `is` 로만 비교가능\n",
    "- `==` : 값을 비교하는 연산자"
   ]
  },
  {
   "cell_type": "code",
   "execution_count": 14,
   "metadata": {},
   "outputs": [],
   "source": [
    "# == 와 is 의 차이\n",
    "\n",
    "a = [1, 2, 3]"
   ]
  },
  {
   "cell_type": "code",
   "execution_count": 16,
   "metadata": {},
   "outputs": [
    {
     "data": {
      "text/plain": [
       "True"
      ]
     },
     "execution_count": 16,
     "metadata": {},
     "output_type": "execute_result"
    }
   ],
   "source": [
    "a == a"
   ]
  },
  {
   "cell_type": "code",
   "execution_count": 17,
   "metadata": {},
   "outputs": [
    {
     "data": {
      "text/plain": [
       "True"
      ]
     },
     "execution_count": 17,
     "metadata": {},
     "output_type": "execute_result"
    }
   ],
   "source": [
    "a == list(a)"
   ]
  },
  {
   "cell_type": "code",
   "execution_count": 18,
   "metadata": {},
   "outputs": [
    {
     "data": {
      "text/plain": [
       "True"
      ]
     },
     "execution_count": 18,
     "metadata": {},
     "output_type": "execute_result"
    }
   ],
   "source": [
    "a is a"
   ]
  },
  {
   "cell_type": "code",
   "execution_count": 19,
   "metadata": {},
   "outputs": [
    {
     "data": {
      "text/plain": [
       "False"
      ]
     },
     "execution_count": 19,
     "metadata": {},
     "output_type": "execute_result"
    }
   ],
   "source": [
    "a is list(a)"
   ]
  },
  {
   "cell_type": "markdown",
   "metadata": {},
   "source": [
    "list()로 한번 더 묶어주면, 별도의 객체로 복사가 되고 다른 ID를 가지게 되면서 is() 주소가 달라짐.\n",
    "- 이에 따라 `is` 비교 연산은 False 가 된다."
   ]
  }
 ],
 "metadata": {
  "kernelspec": {
   "display_name": "ml_env",
   "language": "python",
   "name": "python3"
  },
  "language_info": {
   "codemirror_mode": {
    "name": "ipython",
    "version": 3
   },
   "file_extension": ".py",
   "mimetype": "text/x-python",
   "name": "python",
   "nbconvert_exporter": "python",
   "pygments_lexer": "ipython3",
   "version": "3.11.4"
  },
  "orig_nbformat": 4
 },
 "nbformat": 4,
 "nbformat_minor": 2
}
