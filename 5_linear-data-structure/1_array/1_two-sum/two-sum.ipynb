{
 "cells": [
  {
   "cell_type": "markdown",
   "metadata": {},
   "source": [
    "# 두 수의 합\n",
    "\n",
    "#### Q) 덧셈하여 타겟을 만들 수 있는 배열의 두 숫자 인덱스를 리턴하라."
   ]
  },
  {
   "cell_type": "code",
   "execution_count": 1,
   "metadata": {},
   "outputs": [],
   "source": [
    "from typing import List"
   ]
  },
  {
   "cell_type": "code",
   "execution_count": 3,
   "metadata": {},
   "outputs": [],
   "source": [
    "nums = [2, 7, 11, 15]\n",
    "target = 9"
   ]
  },
  {
   "cell_type": "markdown",
   "metadata": {},
   "source": [
    "## Case 1. **브루트 포스**로 계산\n",
    "\n",
    "- **브루트 포스** : *배열을 2번 반복*하면서 모든 조합을 확인하는 <u>무차별 대입 방식</u>\n",
    "    - 이 경우 시간 복잡도는 `O(n^2)`가 됨. (길이 n의 배열을 2중으로 돌아야 하기 때문)\n",
    "    - **굉장히 비효율적이 방법임**"
   ]
  },
  {
   "cell_type": "code",
   "execution_count": 2,
   "metadata": {},
   "outputs": [],
   "source": [
    "def two_sum(nums:List[int], target: int) -> List[int]:\n",
    "    for i in range(len(nums)):\n",
    "        for j in range(i+1, len(nums)):\n",
    "            if nums[i]+nums[j] == target:\n",
    "                return [i, j]"
   ]
  },
  {
   "cell_type": "code",
   "execution_count": 4,
   "metadata": {},
   "outputs": [
    {
     "name": "stdout",
     "output_type": "stream",
     "text": [
      "[0, 1]\n"
     ]
    }
   ],
   "source": [
    "print(two_sum(nums, target))"
   ]
  },
  {
   "cell_type": "markdown",
   "metadata": {},
   "source": [
    "## Case 2. `in`을 이용한 탐색\n",
    "\n",
    "- `in` 의 시간 복잡도는 `O(n)`임"
   ]
  },
  {
   "cell_type": "code",
   "execution_count": 6,
   "metadata": {},
   "outputs": [
    {
     "name": "stdout",
     "output_type": "stream",
     "text": [
      "0 2\n",
      "1 7\n",
      "2 11\n",
      "3 15\n"
     ]
    }
   ],
   "source": [
    "for idx, num in enumerate(nums):\n",
    "    print(idx, num)"
   ]
  },
  {
   "cell_type": "code",
   "execution_count": 7,
   "metadata": {},
   "outputs": [],
   "source": [
    "def two_sum(nums:List[int], target:int) -> List[int]:\n",
    "    for idx, num in enumerate(nums):\n",
    "        complement = target - num\n",
    "\n",
    "        if complement in nums[idx+1:]:\n",
    "            return [nums.index(num), nums[idx+1:].index(complement)+(idx+1)]"
   ]
  },
  {
   "cell_type": "code",
   "execution_count": 8,
   "metadata": {},
   "outputs": [
    {
     "name": "stdout",
     "output_type": "stream",
     "text": [
      "[0, 1]\n"
     ]
    }
   ],
   "source": [
    "print(two_sum(nums, target))"
   ]
  },
  {
   "cell_type": "markdown",
   "metadata": {},
   "source": [
    "## Case 3. 첫 번째 수를 뺸 결과 키 조회\n",
    "\n",
    "- `target - 1st num` 이 `2nd num` 이기 떄문에\n",
    "    - 기존 배열의 수를 key로 하고 인덱스를 value로 지정하면 한번에 키에대한 값을 찾을 수 있음.\n",
    "- 딕셔너리가 해시 테이블로 구현되어있기에 대부분의 경우 `O(1)`에 실행 가능함"
   ]
  },
  {
   "cell_type": "code",
   "execution_count": 10,
   "metadata": {},
   "outputs": [],
   "source": [
    "def two_sum(nums:List[int], target:int) -> List[int]:\n",
    "    nums_map = {}\n",
    "\n",
    "    # 키와 값을 바꾸서 딕셔너리로 저장\n",
    "    for idx, num in enumerate(nums):\n",
    "        nums_map[num] = idx\n",
    "    \n",
    "    # 타겟에서 첫 번째 수를 뺀 결과를 key로 조회\n",
    "    for idx, num in enumerate(nums):\n",
    "        if target - num in nums_map and idx != nums_map[target-num]: # 같은 자리의 값을 찾지 않도록 함.\n",
    "            return [idx, nums_map[target - num]]"
   ]
  },
  {
   "cell_type": "code",
   "execution_count": 11,
   "metadata": {},
   "outputs": [
    {
     "name": "stdout",
     "output_type": "stream",
     "text": [
      "[0, 1]\n"
     ]
    }
   ],
   "source": [
    "print(two_sum(nums, target))"
   ]
  },
  {
   "cell_type": "markdown",
   "metadata": {},
   "source": [
    "## Case 4. 조회 구조 개선\n",
    "\n",
    "- 딕셔너리의 저장과 조회를 `for`문으로 각각 처리했던 방식을 바꾸어보자\n",
    "    - 하나의 `for`로 합쳐서 처리"
   ]
  },
  {
   "cell_type": "code",
   "execution_count": null,
   "metadata": {},
   "outputs": [],
   "source": []
  }
 ],
 "metadata": {
  "kernelspec": {
   "display_name": "ml_env",
   "language": "python",
   "name": "python3"
  },
  "language_info": {
   "codemirror_mode": {
    "name": "ipython",
    "version": 3
   },
   "file_extension": ".py",
   "mimetype": "text/x-python",
   "name": "python",
   "nbconvert_exporter": "python",
   "pygments_lexer": "ipython3",
   "version": "3.11.4"
  },
  "orig_nbformat": 4
 },
 "nbformat": 4,
 "nbformat_minor": 2
}
