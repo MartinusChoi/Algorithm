{
 "cells": [
  {
   "cell_type": "markdown",
   "metadata": {},
   "source": [
    "# 가장 흔한 단어\n",
    "\n",
    "#### Q) 금지된 단어를 제외한 가장 흔하게 등장하는 단어 출력, 대소문자 구분 하지 않고, 구두점 또한 무시한다."
   ]
  },
  {
   "cell_type": "markdown",
   "metadata": {},
   "source": [
    "## Case 1. 리스트 컴프리헨션, Counter 객체 사용\n",
    "\n",
    "- **정규식**\n",
    "    - `\\w` : 단어 문자(Word Caracter)를 의미\n",
    "    - `^` : not을 의미한다."
   ]
  },
  {
   "cell_type": "code",
   "execution_count": 1,
   "metadata": {},
   "outputs": [],
   "source": [
    "import re\n",
    "import collections"
   ]
  },
  {
   "cell_type": "code",
   "execution_count": 2,
   "metadata": {},
   "outputs": [],
   "source": [
    "paragraph = \"Bob hit a ball, the hit BALL flew far after it was hit\"\n",
    "banned = [\"hit\"]"
   ]
  },
  {
   "cell_type": "code",
   "execution_count": 3,
   "metadata": {},
   "outputs": [
    {
     "data": {
      "text/plain": [
       "['bob', 'a', 'ball', 'the', 'ball', 'flew', 'far', 'after', 'it', 'was']"
      ]
     },
     "execution_count": 3,
     "metadata": {},
     "output_type": "execute_result"
    }
   ],
   "source": [
    "words = [word for word in re.sub(r'[^\\w]', ' ', paragraph) # 단어 문자가 아닌것을 공백처리하는 정규식\n",
    "         .lower().split()\n",
    "         if word not in banned\n",
    "         ]\n",
    "\n",
    "words"
   ]
  },
  {
   "cell_type": "code",
   "execution_count": 12,
   "metadata": {},
   "outputs": [
    {
     "name": "stdout",
     "output_type": "stream",
     "text": [
      "[('ball', 2)]\n",
      "('ball', 2)\n",
      "ball\n"
     ]
    }
   ],
   "source": [
    "counts = collections.Counter(words)\n",
    "print(counts.most_common(1))\n",
    "print(counts.most_common(1)[0])\n",
    "print(counts.most_common(1)[0][0])"
   ]
  },
  {
   "cell_type": "code",
   "execution_count": 9,
   "metadata": {},
   "outputs": [
    {
     "name": "stdout",
     "output_type": "stream",
     "text": [
      "ball\n"
     ]
    }
   ],
   "source": [
    "def most_common_word(paragraph:str, banned:list) -> str:\n",
    "    words = [word for word in re.sub(r'[^\\w]', ' ', paragraph)\n",
    "             .lower().split()\n",
    "             if word not in banned\n",
    "             ]\n",
    "    \n",
    "    counts = collections.Counter(words)\n",
    "\n",
    "    return counts.most_common(1)[0][0]\n",
    "\n",
    "print(most_common_word(paragraph, banned))"
   ]
  }
 ],
 "metadata": {
  "kernelspec": {
   "display_name": "ml_env",
   "language": "python",
   "name": "python3"
  },
  "language_info": {
   "codemirror_mode": {
    "name": "ipython",
    "version": 3
   },
   "file_extension": ".py",
   "mimetype": "text/x-python",
   "name": "python",
   "nbconvert_exporter": "python",
   "pygments_lexer": "ipython3",
   "version": "3.11.4"
  },
  "orig_nbformat": 4
 },
 "nbformat": 4,
 "nbformat_minor": 2
}
