{
 "cells": [
  {
   "cell_type": "markdown",
   "metadata": {},
   "source": [
    "# 유효한 팰린드롬\n",
    "\n",
    "#### **Q)** 주어진 문자열이 팰린드롬인지 확인하라. 대소문자를 구분하지 않으며, 영문자와 숫자만 대상으로 한다.\n",
    "- **팰린드롬(Palindrome)** : 뒤집어도 같은 말이 되는 단어 또는 문장"
   ]
  },
  {
   "cell_type": "code",
   "execution_count": 1,
   "metadata": {},
   "outputs": [],
   "source": [
    "import collections\n",
    "import re"
   ]
  },
  {
   "cell_type": "markdown",
   "metadata": {},
   "source": [
    "## Case 1. 리스트로 변환\n",
    "\n",
    "- `.isalnum()` : 영문자, 숫자 여부를 판별.\n",
    "    - 해당 문자가 영문자/숫자이면 True를, 그렇지 않으면 False를 반환"
   ]
  },
  {
   "cell_type": "code",
   "execution_count": 2,
   "metadata": {},
   "outputs": [],
   "source": [
    "def is_palindrome(string:str):\n",
    "    chars = []\n",
    "\n",
    "    for char in string:\n",
    "        if char.isalnum():\n",
    "            chars.append(char.lower())\n",
    "    \n",
    "    while len(chars) > 1:\n",
    "        if chars.pop(0) != chars.pop():\n",
    "            return False\n",
    "    \n",
    "    return True"
   ]
  },
  {
   "cell_type": "code",
   "execution_count": 3,
   "metadata": {},
   "outputs": [
    {
     "name": "stdout",
     "output_type": "stream",
     "text": [
      "True\n",
      "False\n"
     ]
    }
   ],
   "source": [
    "s = \"A man, a plan, a canal : Panama\"\n",
    "print(is_palindrome(s))\n",
    "\n",
    "s = \"race a car\"\n",
    "print(is_palindrome(s))"
   ]
  },
  {
   "cell_type": "markdown",
   "metadata": {},
   "source": [
    "## Case 2. 데크 자료형을 이용한 최적화\n",
    "\n",
    " `데크(Deque)` 를 명식적으로 선언하여 <u>리스트를 활용하는 것 보다 속도를 높일 수 있음.</u>"
   ]
  },
  {
   "cell_type": "code",
   "execution_count": 4,
   "metadata": {},
   "outputs": [],
   "source": [
    "def is_palindrome(string:str) -> bool :\n",
    "    # 데크로 선언\n",
    "    chars = collections.deque()\n",
    "\n",
    "    for char in string:\n",
    "        if char.isalnum():\n",
    "            chars.append(char.lower())\n",
    "        \n",
    "    while len(chars) > 1:\n",
    "        if chars.popleft() != chars.pop():\n",
    "            return False\n",
    "    \n",
    "    return True"
   ]
  },
  {
   "cell_type": "code",
   "execution_count": 5,
   "metadata": {},
   "outputs": [
    {
     "name": "stdout",
     "output_type": "stream",
     "text": [
      "True\n",
      "False\n"
     ]
    }
   ],
   "source": [
    "s = \"A man, a plan, a canal : Panama\"\n",
    "print(is_palindrome(s))\n",
    "\n",
    "s = \"race a car\"\n",
    "print(is_palindrome(s))"
   ]
  },
  {
   "cell_type": "markdown",
   "metadata": {},
   "source": [
    "## Case 3. 슬라이싱 사용\n",
    "\n",
    "- `[::-1]` : 리스트를 뒤집을 수 있는 슬라이싱 구문\n",
    "- 이렇게 `정규식`과 `슬라이싱`을 사용하면 내부적으로 C로 빠르게 구현되어 훨씬 좋은 속도를 기대할 수 있음"
   ]
  },
  {
   "cell_type": "code",
   "execution_count": 6,
   "metadata": {},
   "outputs": [],
   "source": [
    "def is_palindrome(string:str) -> bool:\n",
    "    string = string.lower()\n",
    "\n",
    "    # 정규식으로 불필요한 문자 필터링\n",
    "    string = re.sub('[^a-z0-9]', '', string)\n",
    "\n",
    "    return string == string[::-1]"
   ]
  },
  {
   "cell_type": "code",
   "execution_count": 7,
   "metadata": {},
   "outputs": [
    {
     "name": "stdout",
     "output_type": "stream",
     "text": [
      "True\n",
      "False\n"
     ]
    }
   ],
   "source": [
    "s = \"A man, a plan, a canal : Panama\"\n",
    "print(is_palindrome(s))\n",
    "\n",
    "s = \"race a car\"\n",
    "print(is_palindrome(s))"
   ]
  },
  {
   "cell_type": "markdown",
   "metadata": {},
   "source": [
    "## 문자열 슬라이싱"
   ]
  },
  {
   "cell_type": "markdown",
   "metadata": {},
   "source": [
    "**슬라이싱** : 위치를 지정하여 해당 위치의 배열 포인터를 얻고, 이를 통해 연결되 객체를 샂도록 함\n",
    "- 내부적으로 매우 빠르게 동작\n",
    "- 문자열 조작 시 **슬라이싱을 우선으로 사용하는 것이 속도 개선에 유리**함.\n",
    "- 리스트 등의 방식을 사용하는 것은 별도 자료형으로 매핑하는 과정에서 연산 상 손해를 보기 때문에 전체적 속도가 줄어들 수 있음"
   ]
  },
  {
   "cell_type": "markdown",
   "metadata": {},
   "source": [
    "#### 슬라이싱을 기준으로 한 파이썬 문자열 처리 실행 시간\n",
    "\n",
    "| 알고리즘 | 실행 시간 | 슬라이싱을 1로 했을 때의 비율 |\n",
    "| :-----: | :-------: | :--------------------------: |\n",
    "| `슬라이싱` | 0.499 마이크로초 | 1 |\n",
    "| `리스트 reverse()` | 2.46 마이크로초 | 5 |\n",
    "| `reversed() + join()` | 2.49 마이크로초 | 6 |\n",
    "| `for 반복` | 5.5 마이크로초 | 12 |\n",
    "| `while 반복` | 9.4 마이크로초 | 21 |\n",
    "| `재귀` | 24.3 마이크로초 | 54 |"
   ]
  }
 ],
 "metadata": {
  "kernelspec": {
   "display_name": "ml_env",
   "language": "python",
   "name": "python3"
  },
  "language_info": {
   "codemirror_mode": {
    "name": "ipython",
    "version": 3
   },
   "file_extension": ".py",
   "mimetype": "text/x-python",
   "name": "python",
   "nbconvert_exporter": "python",
   "pygments_lexer": "ipython3",
   "version": "3.11.4"
  },
  "orig_nbformat": 4
 },
 "nbformat": 4,
 "nbformat_minor": 2
}
