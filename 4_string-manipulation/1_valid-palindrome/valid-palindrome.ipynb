{
 "cells": [
  {
   "cell_type": "markdown",
   "metadata": {},
   "source": [
    "# 유효한 팰린드롬\n",
    "\n",
    "#### **Q)** 주어진 문자열이 팰린드롬인지 확인하라. 대소문자를 구분하지 않으며, 영문자와 숫자만 대상으로 한다.\n",
    "- **팰린드롬(Palindrome)** : 뒤집어도 같은 말이 되는 단어 또는 문장"
   ]
  },
  {
   "cell_type": "markdown",
   "metadata": {},
   "source": [
    "## Case 1. 리스트로 변환\n",
    "\n",
    "- `.isalnum()` : 영문자, 숫자 여부를 판별."
   ]
  },
  {
   "cell_type": "code",
   "execution_count": null,
   "metadata": {},
   "outputs": [],
   "source": [
    "s = \"A man, a plan, a canal: Panama\"\n",
    "\n",
    "strs = []\n",
    "\n",
    "for char in s:\n",
    "    if char.isalnum():\n",
    "        strs.append(char.lower())"
   ]
  }
 ],
 "metadata": {
  "language_info": {
   "name": "python"
  },
  "orig_nbformat": 4
 },
 "nbformat": 4,
 "nbformat_minor": 2
}
