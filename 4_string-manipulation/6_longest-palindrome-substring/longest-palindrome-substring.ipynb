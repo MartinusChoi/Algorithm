{
 "cells": [
  {
   "cell_type": "markdown",
   "metadata": {},
   "source": [
    "# 가장 긴 팰린드롬 부분 문자열\n",
    "\n",
    "#### Q) 가장 긴 팰린드롬 부분 문자열을 출력하라."
   ]
  },
  {
   "cell_type": "markdown",
   "metadata": {},
   "source": [
    "## Case 1. 중앙을 중심으로 확장\n",
    "\n",
    "- `max()` : 인자 중 가장 큰 값을 리턴\n",
    "    - `key=`를 `len`으로 지정할 시, 문자열의 경우 가장 긴 것을 반환"
   ]
  },
  {
   "cell_type": "code",
   "execution_count": 6,
   "metadata": {},
   "outputs": [
    {
     "name": "stdout",
     "output_type": "stream",
     "text": [
      "1234321\n"
     ]
    }
   ],
   "source": [
    "s = '1234321'\n",
    "\n",
    "# step 1 : 예외 처리\n",
    "if len(s) < 2 or s == s[::-1]: # 주어진 문자열 전체가 이미 palindrome 인 경우\n",
    "    print(s)"
   ]
  },
  {
   "cell_type": "code",
   "execution_count": 10,
   "metadata": {},
   "outputs": [],
   "source": [
    "# step 2 윈도우 확장 함수 작성\n",
    "\n",
    "def expand(left:int, right:int) -> str:\n",
    "    while left>=0 and right<len(s) and s[left] == s[right] : # 좌/우측 포인터가 문자열 범위내에 있고 palindrome 인 한 반복\n",
    "        left -= 1\n",
    "        right += 1\n",
    "    return s[left+1 : right] "
   ]
  },
  {
   "cell_type": "code",
   "execution_count": 11,
   "metadata": {},
   "outputs": [],
   "source": [
    "# step 3 : 홀수 윈도우와 짝수 윈도우를 확장하며 palindrome 검사\n",
    "\n",
    "result = ''\n",
    "\n",
    "for i in range(0, len(s) -1 ):\n",
    "    result = max(result ,\n",
    "                 expand(i, i+1),\n",
    "                 expand(i, i+2)\n",
    "                 )"
   ]
  },
  {
   "cell_type": "markdown",
   "metadata": {},
   "source": [
    "### 전체 코드 "
   ]
  },
  {
   "cell_type": "code",
   "execution_count": 17,
   "metadata": {},
   "outputs": [],
   "source": [
    "def longest_palindrome(s:str) -> str:\n",
    "\n",
    "    def expand(left:int, right:int) -> str:\n",
    "        while left>=0 and right<len(s) and s[left]==s[right]:\n",
    "            left -= 1\n",
    "            right += 1\n",
    "        return s[left+1:right]\n",
    "\n",
    "    # exception\n",
    "    if len(s) < 2 or s[:] == s[::-1]:\n",
    "        return s\n",
    "    \n",
    "    result = ''\n",
    "    for i in range(0, len(s)-1):\n",
    "        result = max(result,\n",
    "                     expand(i, i+1), # 짝수 윈도우 확장\n",
    "                     expand(i, i+2), # 홀수 윈도우 확장\n",
    "                     key=len) # 길이를 기준으로!\n",
    "    \n",
    "    return result"
   ]
  },
  {
   "cell_type": "code",
   "execution_count": 18,
   "metadata": {},
   "outputs": [
    {
     "name": "stdout",
     "output_type": "stream",
     "text": [
      "bab\n",
      "bb\n"
     ]
    }
   ],
   "source": [
    "s = 'babad'\n",
    "print(longest_palindrome(s))\n",
    "\n",
    "s = 'cbbd'\n",
    "print(longest_palindrome(s))"
   ]
  }
 ],
 "metadata": {
  "kernelspec": {
   "display_name": "ml_env",
   "language": "python",
   "name": "python3"
  },
  "language_info": {
   "codemirror_mode": {
    "name": "ipython",
    "version": 3
   },
   "file_extension": ".py",
   "mimetype": "text/x-python",
   "name": "python",
   "nbconvert_exporter": "python",
   "pygments_lexer": "ipython3",
   "version": "3.11.4"
  },
  "orig_nbformat": 4
 },
 "nbformat": 4,
 "nbformat_minor": 2
}
