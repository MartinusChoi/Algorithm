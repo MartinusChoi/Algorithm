{
 "cells": [
  {
   "cell_type": "markdown",
   "metadata": {},
   "source": [
    "# 로그 파일 재정렬\n",
    "\n",
    "#### Q) 로그를 재정렬 하라. 기준은 다음과 같다.\n",
    "1. 로그의 가장 앞 부분은 식별자다.\n",
    "2. 문자로 구성된 로그가 숫자로그보다 앞에 온다.\n",
    "3. 식별자는 순서에 영향을 끼치지 않지만, 문자가 동일할 경우 식별자 순으로 한다.\n",
    "4. 숫자 로그는 입력 순서대로 한다."
   ]
  },
  {
   "cell_type": "markdown",
   "metadata": {},
   "source": [
    "## Case 1. 람다와 + 연산자 이용\n",
    "\n",
    "- `sort`의 key가 두 개일 떄 : 첫 번째 인자 기준으로 정렬하고, 같으면 두 번째 인자 기준으로 정렬하기\n",
    "- 리스트의 `+` 연산 : 두 리스트를 이어붙임\n",
    "- `.isdigit()` : 문자 타입의 문자가 숫자인지 아닌지 검사"
   ]
  },
  {
   "cell_type": "code",
   "execution_count": 9,
   "metadata": {},
   "outputs": [],
   "source": [
    "logs = [\"dig1 8 1 5 1\", \"let1 art can\", \"dig2 3 6\", \"let2 own kit dig\", \"let3 art zero\"]"
   ]
  },
  {
   "cell_type": "code",
   "execution_count": 12,
   "metadata": {},
   "outputs": [],
   "source": [
    "def reorder_log_files(logs: list) -> list:\n",
    "    letters, digits = [], []\n",
    "\n",
    "    for log in logs:\n",
    "        if log.split()[1].isdigit():\n",
    "            digits.append(log)\n",
    "        else :\n",
    "            letters.append(log)\n",
    "    \n",
    "    letters.sort(key = lambda x : (x.split()[1:], x.split()[0]))\n",
    "\n",
    "    return letters + digits"
   ]
  },
  {
   "cell_type": "code",
   "execution_count": 13,
   "metadata": {},
   "outputs": [
    {
     "name": "stdout",
     "output_type": "stream",
     "text": [
      "['let1 art can', 'let3 art zero', 'let2 own kit dig', 'dig1 8 1 5 1', 'dig2 3 6']\n"
     ]
    }
   ],
   "source": [
    "print(reorder_log_files(logs))"
   ]
  },
  {
   "cell_type": "markdown",
   "metadata": {},
   "source": [
    "### 람다 표현식\n",
    "\n",
    "**람다 표현식** : 식별자 없이 실행 가능한 함수\n",
    "- 함수 선언 없이도 하나의 식으로 함수를 단순하게 표현 가능.\n",
    "    - 다만, 코드가 길어지고 `map`이나 `filter`와 함께 섞어서 사용하면 가독성이 떨어짐"
   ]
  }
 ],
 "metadata": {
  "kernelspec": {
   "display_name": "ml_env",
   "language": "python",
   "name": "python3"
  },
  "language_info": {
   "codemirror_mode": {
    "name": "ipython",
    "version": 3
   },
   "file_extension": ".py",
   "mimetype": "text/x-python",
   "name": "python",
   "nbconvert_exporter": "python",
   "pygments_lexer": "ipython3",
   "version": "3.11.4"
  },
  "orig_nbformat": 4
 },
 "nbformat": 4,
 "nbformat_minor": 2
}
