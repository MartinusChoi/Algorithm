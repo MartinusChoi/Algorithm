{
 "cells": [
  {
   "cell_type": "markdown",
   "metadata": {},
   "source": [
    "# 1. 파이썬 문법\n",
    "------------------"
   ]
  },
  {
   "cell_type": "markdown",
   "metadata": {},
   "source": [
    "## 1-1 인덴트"
   ]
  },
  {
   "cell_type": "markdown",
   "metadata": {},
   "source": [
    "**인덴트** : 들여쓰기. 파이썬 문법의 대표적 특징\n",
    "- PEP 8 (파이썬 공식 가이드)에 따라 **공백 4칸**을 원칙으로 함."
   ]
  },
  {
   "cell_type": "code",
   "execution_count": 1,
   "metadata": {},
   "outputs": [],
   "source": [
    "def add(\n",
    "    var_one, var_two, var_three,\n",
    "    var_four):\n",
    "    return var_one+var_two+var_three+var_four"
   ]
  },
  {
   "cell_type": "markdown",
   "metadata": {},
   "source": [
    "- 위와 같이 첫 번째 줄에 파라미터가 없다면, <u>공백 4칸 인덴트를 한 번 더 추가</u>하여 다른 행과 구분한다."
   ]
  },
  {
   "cell_type": "code",
   "execution_count": 2,
   "metadata": {},
   "outputs": [],
   "source": [
    "var_one = 1\n",
    "var_two = 2\n",
    "var_three = 3\n",
    "var_four = 4\n",
    "\n",
    "foo = add(var_one, var_two,\n",
    "          var_three, var_four)"
   ]
  },
  {
   "cell_type": "markdown",
   "metadata": {},
   "source": [
    "- 위와 같이 첫 번째 줄에 파라미터가 있다면, <u>파라미터가 시작되는 부분에 맞춘다.</u>"
   ]
  },
  {
   "cell_type": "markdown",
   "metadata": {},
   "source": [
    "## 1-2 네이밍 컨벤션"
   ]
  },
  {
   "cell_type": "markdown",
   "metadata": {},
   "source": [
    "**네이밍 컨벤션** : 함수, 변수 등의 이름을 정하는 방법\n",
    "- 파이썬의 경우 <u>스네이크 케이스(snake case)</u>를 따른다.\n",
    "- 파이썬의 PEP 8 및 철학에 따라 스네이크 케이스를 지향함."
   ]
  },
  {
   "cell_type": "code",
   "execution_count": 3,
   "metadata": {},
   "outputs": [],
   "source": [
    "# 카멜 케이스\n",
    "camelCase: int = 1\n",
    "\n",
    "# 스네이크 케이스\n",
    "snake_case: int = 1"
   ]
  },
  {
   "cell_type": "markdown",
   "metadata": {},
   "source": [
    "## 1-3 타입 힌트\n",
    "**타입 힌트** : 변수의 타입(자료형)을 지정하도록 하는 문법\n",
    "- 파이썬 3.5이상에서 사용가능"
   ]
  },
  {
   "cell_type": "code",
   "execution_count": 4,
   "metadata": {},
   "outputs": [],
   "source": [
    "# 타입 힌트 예시\n",
    "\n",
    "## string\n",
    "a: str = \"1\"\n",
    "\n",
    "## int\n",
    "b: int = 1"
   ]
  },
  {
   "cell_type": "code",
   "execution_count": 5,
   "metadata": {},
   "outputs": [],
   "source": [
    "# 타입 힌트를 사용하지 않은 함수 정의\n",
    "def fn(a):\n",
    "    return a\n",
    "\n",
    "# 타입 힌트를 사용한 함수 정의\n",
    "def fn(a: int) -> bool:\n",
    "    if a==1 : return True\n",
    "    else : return False"
   ]
  },
  {
   "cell_type": "markdown",
   "metadata": {},
   "source": [
    "위의 두 번쨰 함수 정의에서 처럼 **입력인자의 자료형**과 **함수의 반환값의 형태**를 미리 지정할 수 있다.\n",
    "- 이러한 방식은 <u>가독성을 좋게</u>하며, <u>버그 발생 확률을 낮출 수 있다.</u>"
   ]
  },
  {
   "cell_type": "markdown",
   "metadata": {},
   "source": [
    "## 1-4 리스트 컴프리헨션\n",
    "**리스트 컴프리헨션** : 기존 리스트를 기반으로 새로운 리스트를 만들어내는 구문\n",
    "- 람다 표현식에 'map'이나 'fliter'를 섞어서 사용하는 것에 비해 가독성이 훨씬 좋다."
   ]
  },
  {
   "cell_type": "code",
   "execution_count": 6,
   "metadata": {},
   "outputs": [
    {
     "name": "stdout",
     "output_type": "stream",
     "text": [
      "list_a :  [2, 6, 10, 14, 18]\n",
      "list_b :  [2, 6, 10, 14, 18]\n"
     ]
    }
   ],
   "source": [
    "# 리스트 컴프리헨션을 사용하는 경우\n",
    "list_a = [n * 2 for n in range(1, 10+1) if n % 2 == 1]\n",
    "print('list_a : ', list_a)\n",
    "\n",
    "# 리스트 컴프리헨션을 사용하지 않는 경우\n",
    "list_b = []\n",
    "for n in range(1, 10+1):\n",
    "    if n % 2 == 1:\n",
    "        list_b.append(n * 2)\n",
    "print('list_b : ', list_b)"
   ]
  },
  {
   "cell_type": "markdown",
   "metadata": {},
   "source": [
    "파이썬 2.7 이후 부터 리스트 외에도 **딕셔너리** 등 다른 자료형에서도 사용할 수 있다."
   ]
  },
  {
   "cell_type": "markdown",
   "metadata": {},
   "source": [
    "## 1-5 제너레이터\n",
    "**제너레이터** : <u>루프의 반복(Iteration)</u>을 제어할 수 있는 루틴 형태\n",
    "- 예를 들어, 숫자 1억 개를 만들어내 계산하는 프로그램을 작성해야 한다면..\n",
    "    - 숫자 1억 개를 메모리 어딘가에 보관하는 대신에, <u>제너레이터만 생성하여 필요할 때 숫자를 만들어 낼 수 있다.</u>"
   ]
  },
  {
   "cell_type": "markdown",
   "metadata": {},
   "source": [
    "`yield` 구문을 사용하여 **제너레이터**를 리턴할 수 있다.\n",
    "- 기존의 함수는 `return` 구문을 만나면 값을 리턴하고 모든 함수의 동작을 종료함.\n",
    "- 그러나 `yield` 는 제너레이터가 여기까지 실행 중이던 값을 내보낸다는 의미\n",
    "    - 중간값을 리턴하고 함수는 종료되지 않고 계속해서 맨 끝까지 실행됨.\n",
    "    - **무한 루프**를 이용하여 계속해서 값을 내보내도록 제너레이터를 생성할 수 도 있다."
   ]
  },
  {
   "cell_type": "code",
   "execution_count": 7,
   "metadata": {},
   "outputs": [],
   "source": [
    "## 무한 루프를 이용하여 자연수를 계속 내보내는 제너레이터 생성\n",
    "\n",
    "def get_natural_number():\n",
    "    n = 0\n",
    "    while True:\n",
    "        n += 1\n",
    "        yield n"
   ]
  },
  {
   "cell_type": "code",
   "execution_count": 8,
   "metadata": {},
   "outputs": [
    {
     "data": {
      "text/plain": [
       "<generator object get_natural_number at 0x00000150E0B2CA00>"
      ]
     },
     "execution_count": 8,
     "metadata": {},
     "output_type": "execute_result"
    }
   ],
   "source": [
    "get_natural_number()"
   ]
  },
  {
   "cell_type": "markdown",
   "metadata": {},
   "source": [
    "위와 같이 함수의 리턴값이 `제너레이터`임을 알 수 있다."
   ]
  },
  {
   "cell_type": "code",
   "execution_count": 9,
   "metadata": {},
   "outputs": [
    {
     "name": "stdout",
     "output_type": "stream",
     "text": [
      "1\n",
      "2\n",
      "3\n",
      "4\n",
      "5\n",
      "6\n",
      "7\n",
      "8\n",
      "9\n",
      "10\n",
      "11\n",
      "12\n",
      "13\n",
      "14\n",
      "15\n"
     ]
    }
   ],
   "source": [
    "g = get_natural_number()\n",
    "for _ in range(0, 15):\n",
    "    print(next(g))"
   ]
  },
  {
   "cell_type": "markdown",
   "metadata": {},
   "source": [
    "위와 같이 `next()` 구문을 이용하여 제너레이터에서 다음 값을 추출할 수 있다."
   ]
  },
  {
   "cell_type": "markdown",
   "metadata": {},
   "source": [
    "제너레이터는 다음 코드와 같이 <u>여러 타입의 값을 하나의 함수에서 생성하는 것도 가능</u>하다."
   ]
  },
  {
   "cell_type": "code",
   "execution_count": 10,
   "metadata": {},
   "outputs": [
    {
     "name": "stdout",
     "output_type": "stream",
     "text": [
      "1\n",
      "string\n",
      "True\n"
     ]
    }
   ],
   "source": [
    "def generator():\n",
    "    yield 1\n",
    "    yield 'string'\n",
    "    yield True\n",
    "\n",
    "g = generator()\n",
    "\n",
    "for _ in range(0, 3):\n",
    "    print(next(g))"
   ]
  },
  {
   "cell_type": "markdown",
   "metadata": {},
   "source": [
    "## 1-6 range\n"
   ]
  },
  {
   "cell_type": "markdown",
   "metadata": {},
   "source": [
    "`range()` : 제너레이터의 방식을 활용하는 함수\n",
    "- 주로 `for` 구문에서 사용됨."
   ]
  },
  {
   "cell_type": "code",
   "execution_count": 12,
   "metadata": {},
   "outputs": [
    {
     "data": {
      "text/plain": [
       "[0, 1, 2, 3, 4]"
      ]
     },
     "execution_count": 12,
     "metadata": {},
     "output_type": "execute_result"
    }
   ],
   "source": [
    "list(range(5))"
   ]
  },
  {
   "cell_type": "code",
   "execution_count": 13,
   "metadata": {},
   "outputs": [
    {
     "data": {
      "text/plain": [
       "range(0, 5)"
      ]
     },
     "execution_count": 13,
     "metadata": {},
     "output_type": "execute_result"
    }
   ],
   "source": [
    "range(5)"
   ]
  },
  {
   "cell_type": "code",
   "execution_count": 14,
   "metadata": {},
   "outputs": [
    {
     "data": {
      "text/plain": [
       "range"
      ]
     },
     "execution_count": 14,
     "metadata": {},
     "output_type": "execute_result"
    }
   ],
   "source": [
    "type(range(5))"
   ]
  },
  {
   "cell_type": "code",
   "execution_count": 16,
   "metadata": {},
   "outputs": [
    {
     "name": "stdout",
     "output_type": "stream",
     "text": [
      "0 1 2 3 4 "
     ]
    }
   ],
   "source": [
    "for i in range(5):\n",
    "    print(i, end=' ')"
   ]
  },
  {
   "cell_type": "markdown",
   "metadata": {},
   "source": [
    "- `range()`는 `range` 클래스를 리턴함.\n",
    "    - 리스트를 리턴하는 것이 아닌 `range` 클래스를 리턴!\n",
    "- `for` 구문에서 사용할 경우 내부적으로는 <u>제너레이터의 `next()`를 호출하듯 매번 다음 숫자를 생성</u>함."
   ]
  },
  {
   "cell_type": "code",
   "execution_count": 18,
   "metadata": {},
   "outputs": [
    {
     "name": "stdout",
     "output_type": "stream",
     "text": [
      "100\n",
      "100\n",
      "True\n"
     ]
    }
   ],
   "source": [
    "list_a = [n for n in range(100)]\n",
    "list_b = range(100)\n",
    "\n",
    "print(len(list_a))\n",
    "print(len(list_b))\n",
    "print(len(list_a) == len(list_b))"
   ]
  },
  {
   "cell_type": "markdown",
   "metadata": {},
   "source": [
    "위와 같이 길이를 비교해보았을 떄에도 동일한 길이가 출력되며, 비교 연산에서도 동일한 값으로 비교된다.\n",
    "- 그러나 `list_a`에는 이미 생성된 값이 저장되어있는 반면, `list_b`에는 생성해야한다는 조건만 존재하고 있다.\n",
    "    - 이에 따라 아래와 같이 메모리 점유율을 비교해보면 `range()` 함수를 사용하는 장점을 살펴볼 수 있다."
   ]
  },
  {
   "cell_type": "code",
   "execution_count": 19,
   "metadata": {},
   "outputs": [
    {
     "name": "stdout",
     "output_type": "stream",
     "text": [
      "memory of list_a :  920\n",
      "memory of list_b :  48\n"
     ]
    }
   ],
   "source": [
    "import sys\n",
    "\n",
    "print(\"memory of list_a : \", sys.getsizeof(list_a))\n",
    "print(\"memory of list_b : \", sys.getsizeof(list_b))"
   ]
  },
  {
   "cell_type": "markdown",
   "metadata": {},
   "source": [
    "이렇게 `range()` 클래스를 반환하여 사용하면 <u>생성 조건만 보관</u>하고 있기 때문에 **메모리 점유율**이 훨씬 더 작다.\n",
    "- 인덱스로도 접근 가능하기 때문에 리스트와 동일하게 사용할 수 있다."
   ]
  },
  {
   "cell_type": "code",
   "execution_count": 20,
   "metadata": {},
   "outputs": [
    {
     "data": {
      "text/plain": [
       "99"
      ]
     },
     "execution_count": 20,
     "metadata": {},
     "output_type": "execute_result"
    }
   ],
   "source": [
    "list_b[99]"
   ]
  },
  {
   "cell_type": "markdown",
   "metadata": {},
   "source": [
    "## 1-7 enumerate\n",
    "\n",
    "`enumerate()` : 여러 가지 자료형(list, set, tuple 등)을 <u>인덱스를 포함</u>한 `enumerate 객체`를 리턴함."
   ]
  },
  {
   "cell_type": "code",
   "execution_count": 21,
   "metadata": {},
   "outputs": [],
   "source": [
    "a = [1, 2, 3, 2, 45, 2, 5]"
   ]
  },
  {
   "cell_type": "code",
   "execution_count": 22,
   "metadata": {},
   "outputs": [
    {
     "data": {
      "text/plain": [
       "<enumerate at 0x150e0b56b10>"
      ]
     },
     "execution_count": 22,
     "metadata": {},
     "output_type": "execute_result"
    }
   ],
   "source": [
    "enumerate(a)"
   ]
  },
  {
   "cell_type": "code",
   "execution_count": 23,
   "metadata": {},
   "outputs": [
    {
     "data": {
      "text/plain": [
       "[(0, 1), (1, 2), (2, 3), (3, 2), (4, 45), (5, 2), (6, 5)]"
      ]
     },
     "execution_count": 23,
     "metadata": {},
     "output_type": "execute_result"
    }
   ],
   "source": [
    "list(enumerate(a))"
   ]
  },
  {
   "cell_type": "markdown",
   "metadata": {},
   "source": [
    "### Q) `a = ['a1', 'b2', 'c3']` 가 있을 때 이 리스트의 인덱스와 값을 함께 출력하려면?"
   ]
  },
  {
   "cell_type": "code",
   "execution_count": 24,
   "metadata": {},
   "outputs": [],
   "source": [
    "a = ['a1', 'b2', 'c3']"
   ]
  },
  {
   "cell_type": "markdown",
   "metadata": {},
   "source": [
    "#### Case 1) `range()` 사용"
   ]
  },
  {
   "cell_type": "code",
   "execution_count": 25,
   "metadata": {},
   "outputs": [
    {
     "name": "stdout",
     "output_type": "stream",
     "text": [
      "0 a1\n",
      "1 b2\n",
      "2 c3\n"
     ]
    }
   ],
   "source": [
    "for i in range(len(a)):\n",
    "    print(i, a[i])"
   ]
  },
  {
   "cell_type": "markdown",
   "metadata": {},
   "source": [
    "값을 가져오기 위해 <u>불필요한 `a[i]` 조회 작업과 전체 길이를 조회</u>하여 루프 상에서 작업 소요가 너무 많음."
   ]
  },
  {
   "cell_type": "markdown",
   "metadata": {},
   "source": [
    "#### Case 2) index 변수 사용"
   ]
  },
  {
   "cell_type": "code",
   "execution_count": 26,
   "metadata": {},
   "outputs": [
    {
     "name": "stdout",
     "output_type": "stream",
     "text": [
      "0 a1\n",
      "1 b2\n",
      "2 c3\n"
     ]
    }
   ],
   "source": [
    "i = 0\n",
    "\n",
    "for v in a:\n",
    "    print(i, v)\n",
    "    i += 1"
   ]
  },
  {
   "cell_type": "markdown",
   "metadata": {},
   "source": [
    "굳이 필요하지 않은 `i`라는 변수를 사용하였음."
   ]
  },
  {
   "cell_type": "markdown",
   "metadata": {},
   "source": [
    "#### Case 3) `enumerate()` 사용"
   ]
  },
  {
   "cell_type": "code",
   "execution_count": 27,
   "metadata": {},
   "outputs": [
    {
     "name": "stdout",
     "output_type": "stream",
     "text": [
      "0 a1\n",
      "1 b2\n",
      "2 c3\n"
     ]
    }
   ],
   "source": [
    "for i, v in enumerate(a):\n",
    "    print(i, v)"
   ]
  },
  {
   "cell_type": "markdown",
   "metadata": {},
   "source": [
    "## 1-8 `//` 나눗셈 연산자\n",
    "\n",
    "`//` : 정수형을 나눗셈할 때 <u>동일한 정수형을 결과로 리턴</u>하면서 **내림 연산자**의 역할을 수행.\n",
    "- <u>몫(Quotient)</u>을 구하는 연산자임."
   ]
  },
  {
   "cell_type": "code",
   "execution_count": 28,
   "metadata": {},
   "outputs": [
    {
     "name": "stdout",
     "output_type": "stream",
     "text": [
      "1.6666666666666667\n",
      "<class 'float'>\n"
     ]
    }
   ],
   "source": [
    "# '/' 연산자\n",
    "print(5/3)\n",
    "print(type(5/3))"
   ]
  },
  {
   "cell_type": "code",
   "execution_count": 31,
   "metadata": {},
   "outputs": [
    {
     "name": "stdout",
     "output_type": "stream",
     "text": [
      "1\n",
      "1\n",
      "<class 'int'>\n",
      "<class 'int'>\n"
     ]
    }
   ],
   "source": [
    "# '//' 연산자\n",
    "# int(a/b) 와 동일함.\n",
    "print(5//3)\n",
    "print(int(5/3))\n",
    "print(type(5//3))\n",
    "print(type(int(5/3)))"
   ]
  },
  {
   "cell_type": "markdown",
   "metadata": {},
   "source": [
    "## 1-9 `print`"
   ]
  },
  {
   "cell_type": "markdown",
   "metadata": {},
   "source": [
    "- 값을 구분하여 출력\n",
    "    - 기본적으로 한 칸 공백이 설정되어 있음."
   ]
  },
  {
   "cell_type": "code",
   "execution_count": 32,
   "metadata": {},
   "outputs": [
    {
     "name": "stdout",
     "output_type": "stream",
     "text": [
      "A1 B2\n"
     ]
    }
   ],
   "source": [
    "print('A1', 'B2')"
   ]
  },
  {
   "cell_type": "markdown",
   "metadata": {},
   "source": [
    "- `sep` 파라미터로 구분자 설정"
   ]
  },
  {
   "cell_type": "code",
   "execution_count": 33,
   "metadata": {},
   "outputs": [
    {
     "name": "stdout",
     "output_type": "stream",
     "text": [
      "A1,B2\n"
     ]
    }
   ],
   "source": [
    "print('A1', 'B2', sep=',')"
   ]
  },
  {
   "cell_type": "markdown",
   "metadata": {},
   "source": [
    "- 줄바꿈 제한"
   ]
  },
  {
   "cell_type": "code",
   "execution_count": 34,
   "metadata": {},
   "outputs": [
    {
     "name": "stdout",
     "output_type": "stream",
     "text": [
      "aa bb\n"
     ]
    }
   ],
   "source": [
    "print('aa', end=' ')\n",
    "print('bb')"
   ]
  },
  {
   "cell_type": "markdown",
   "metadata": {},
   "source": [
    "- 리스트 출력\n",
    "    - `join()` 함수 활용"
   ]
  },
  {
   "cell_type": "code",
   "execution_count": 37,
   "metadata": {},
   "outputs": [
    {
     "name": "stdout",
     "output_type": "stream",
     "text": [
      "A B\n"
     ]
    }
   ],
   "source": [
    "a = ['A', 'B']\n",
    "print(' '.join(a))"
   ]
  },
  {
   "cell_type": "markdown",
   "metadata": {},
   "source": [
    "- 포맷(format)을 지정하여 출력"
   ]
  },
  {
   "cell_type": "code",
   "execution_count": 39,
   "metadata": {},
   "outputs": [
    {
     "name": "stdout",
     "output_type": "stream",
     "text": [
      "2: Apple\n",
      "2: Apple\n"
     ]
    }
   ],
   "source": [
    "idx = 1\n",
    "fruit = 'Apple'\n",
    "\n",
    "# Case 1\n",
    "print('{}: {}'.format(idx + 1, fruit))\n",
    "\n",
    "# Case 2 : f-string\n",
    "print(f'{idx+1}: {fruit}')"
   ]
  },
  {
   "cell_type": "markdown",
   "metadata": {},
   "source": [
    "## 1-10 `pass`\n",
    "\n",
    "`pass` : 널 연산(Null Operation), 아무것도 하지 않는 기능\n",
    "- 아직 기능을 구현하지 않아 발생하는 오류를 발생하지 않게함.\n",
    "- **코드의 전체 골격을 잡아놓고 세세한 내용을 차근차근 구현**할 수 있게 함."
   ]
  },
  {
   "cell_type": "code",
   "execution_count": 40,
   "metadata": {},
   "outputs": [],
   "source": [
    "class MyClass(object):\n",
    "    def method_a(self):\n",
    "        pass\n",
    "\n",
    "    def method_b(self):\n",
    "        print(\"Method B\")\n",
    "\n",
    "c = MyClass()"
   ]
  },
  {
   "cell_type": "markdown",
   "metadata": {},
   "source": [
    "## 1-10 `locals`\n",
    "\n",
    "`locals()` : 로컬 심볼 테이블 딕셔너리를 가져오는 메소드\n",
    "- 클래스 메소드 내부의 모든 로컬 변수를 출력할 수 있다.\n",
    "    - **디버깅에 도움이 된다.**\n",
    "- `pprint`를 활용하면 가독성 좋게 출력할 수 있다."
   ]
  },
  {
   "cell_type": "code",
   "execution_count": 41,
   "metadata": {},
   "outputs": [
    {
     "name": "stdout",
     "output_type": "stream",
     "text": [
      "{'In': ['',\n",
      "        'def add(\\n'\n",
      "        '    var_one, var_two, var_three,\\n'\n",
      "        '    var_four):\\n'\n",
      "        '    return var_one+var_two+var_three+var_four',\n",
      "        'var_one = 1\\n'\n",
      "        'var_two = 2\\n'\n",
      "        'var_three = 3\\n'\n",
      "        'var_four = 4\\n'\n",
      "        '\\n'\n",
      "        'foo = add(var_one, var_two,\\n'\n",
      "        '          var_three, var_four)',\n",
      "        '# 카멜 케이스\\ncamelCase: int = 1\\n\\n# 스네이크 케이스\\nsnake_case: int = 1',\n",
      "        '# 타입 힌트 예시\\n\\n## string\\na: str = \"1\"\\n\\n## int\\nb: int = 1',\n",
      "        '# 타입 힌트를 사용하지 않은 함수 정의\\n'\n",
      "        'def fn(a):\\n'\n",
      "        '    return a\\n'\n",
      "        '\\n'\n",
      "        '# 타입 힌트를 사용한 함수 정의\\n'\n",
      "        'def fn(a: int) -> bool:\\n'\n",
      "        '    if a==1 : return True\\n'\n",
      "        '    else : return False',\n",
      "        '# 리스트 컴프리헨션을 사용하는 경우\\n'\n",
      "        'list_a = [n * 2 for n in range(1, 10+1) if n % 2 == 1]\\n'\n",
      "        \"print('list_a : ', list_a)\\n\"\n",
      "        '\\n'\n",
      "        '# 리스트 컴프리헨션을 사용하지 않는 경우\\n'\n",
      "        'list_b = []\\n'\n",
      "        'for n in range(1, 10+1):\\n'\n",
      "        '    if n % 2 == 1:\\n'\n",
      "        '        list_b.append(n * 2)\\n'\n",
      "        \"print('list_b : ', list_b)\",\n",
      "        '## 무한 루프를 이용하여 자연수를 계속 내보내는 제너레이터 생성\\n'\n",
      "        '\\n'\n",
      "        'def get_natural_number():\\n'\n",
      "        '    n = 0\\n'\n",
      "        '    while True:\\n'\n",
      "        '        n += 1\\n'\n",
      "        '        yield n',\n",
      "        'get_natural_number()',\n",
      "        'g = get_natural_number()\\nfor _ in range(0, 15):\\n    print(next(g))',\n",
      "        'def generator():\\n'\n",
      "        '    yield 1\\n'\n",
      "        \"    yield 'string'\\n\"\n",
      "        '    yield True\\n'\n",
      "        '\\n'\n",
      "        'g = generator()\\n'\n",
      "        '\\n'\n",
      "        'for _ in range(0, 3):\\n'\n",
      "        '    print(next(g))',\n",
      "        '[range(5)]',\n",
      "        'list(range(5))',\n",
      "        'range(5)',\n",
      "        'type(range(5))',\n",
      "        \"for i in range(5):\\n    print(i, end='')\",\n",
      "        \"for i in range(5):\\n    print(i, end=' ')\",\n",
      "        'list_a = [n for n in range(100)]\\n'\n",
      "        'list_b = range(100)\\n'\n",
      "        '\\n'\n",
      "        'print(len(list_a))\\n'\n",
      "        'print(len(list_b))',\n",
      "        'list_a = [n for n in range(100)]\\n'\n",
      "        'list_b = range(100)\\n'\n",
      "        '\\n'\n",
      "        'print(len(list_a))\\n'\n",
      "        'print(len(list_b))\\n'\n",
      "        'print(len(list_a) == len(list_b))',\n",
      "        'import sys\\n'\n",
      "        '\\n'\n",
      "        'print(\"memory of list_a : \", sys.getsizeof(list_a))\\n'\n",
      "        'print(\"memory of list_b : \", sys.getsizeof(list_b))',\n",
      "        'list_b[99]',\n",
      "        'a = [1, 2, 3, 2, 45, 2, 5]',\n",
      "        'enumerate(a)',\n",
      "        'list(enumerate(a))',\n",
      "        \"a = ['a1', 'b2', 'c3']\",\n",
      "        'for i in range(len(a)):\\n    print(i, a[i])',\n",
      "        'i = 0\\n\\nfor v in a:\\n    print(i, v)\\n    i += 1',\n",
      "        'for i, v in enumerate(a):\\n    print(i, v)',\n",
      "        \"# '/' 연산자\\nprint(5/3)\\nprint(type(5/3))\",\n",
      "        \"# '//' 연산자\\n# int(a/b) 와 동일함.\\nprint(5//3)\\nprint(type(5//3))\",\n",
      "        \"# '//' 연산자\\n\"\n",
      "        '# int(a/b) 와 동일함.\\n'\n",
      "        'print(5//3)\\n'\n",
      "        'print(int(5/3))\\n'\n",
      "        'print(type(5//3))',\n",
      "        \"# '//' 연산자\\n\"\n",
      "        '# int(a/b) 와 동일함.\\n'\n",
      "        'print(5//3)\\n'\n",
      "        'print(int(5/3))\\n'\n",
      "        'print(type(5//3))\\n'\n",
      "        'print(type(int(5/3)))',\n",
      "        \"print('A1', 'B2')\",\n",
      "        \"print('A1', 'B2', sep=',')\",\n",
      "        \"print('aa', end=' ')\\nprint('bb')\",\n",
      "        \"a = ['A', 'B']\\nprint(' '.join(a))\",\n",
      "        \"a = ['A', 'B']\\nprint(''.join(a))\",\n",
      "        \"a = ['A', 'B']\\nprint(' '.join(a))\",\n",
      "        'idx = 1\\n'\n",
      "        \"fruit = 'Apple'\\n\"\n",
      "        '\\n'\n",
      "        '# Case 1\\n'\n",
      "        \"print('{}: {}'.format(idx + 1, fruit))\\n\"\n",
      "        '\\n'\n",
      "        '# Case 2\\n'\n",
      "        \"print(f'{idx+1}: {fruit}')\",\n",
      "        'idx = 1\\n'\n",
      "        \"fruit = 'Apple'\\n\"\n",
      "        '\\n'\n",
      "        '# Case 1\\n'\n",
      "        \"print('{}: {}'.format(idx + 1, fruit))\\n\"\n",
      "        '\\n'\n",
      "        '# Case 2 : f-string\\n'\n",
      "        \"print(f'{idx+1}: {fruit}')\",\n",
      "        'class MyClass(object):\\n'\n",
      "        '    def method_a(self):\\n'\n",
      "        '        pass\\n'\n",
      "        '\\n'\n",
      "        '    def method_b(self):\\n'\n",
      "        '        print(\"Method B\")\\n'\n",
      "        '\\n'\n",
      "        'c = MyClass()',\n",
      "        'import pprint\\n\\npprint.pprint(locals())'],\n",
      " 'MyClass': <class '__main__.MyClass'>,\n",
      " 'Out': {8: <generator object get_natural_number at 0x00000150E0B2CA00>,\n",
      "         11: [range(0, 5)],\n",
      "         12: [0, 1, 2, 3, 4],\n",
      "         13: range(0, 5),\n",
      "         14: <class 'range'>,\n",
      "         20: 99,\n",
      "         22: <enumerate object at 0x00000150E0B56B10>,\n",
      "         23: [(0, 1), (1, 2), (2, 3), (3, 2), (4, 45), (5, 2), (6, 5)]},\n",
      " '_': 2,\n",
      " '_11': [range(0, 5)],\n",
      " '_12': [0, 1, 2, 3, 4],\n",
      " '_13': range(0, 5),\n",
      " '_14': <class 'range'>,\n",
      " '_20': 99,\n",
      " '_22': <enumerate object at 0x00000150E0B56B10>,\n",
      " '_23': [(0, 1), (1, 2), (2, 3), (3, 2), (4, 45), (5, 2), (6, 5)],\n",
      " '_8': <generator object get_natural_number at 0x00000150E0B2CA00>,\n",
      " '__': '',\n",
      " '___': '',\n",
      " '__annotations__': {'a': <class 'str'>,\n",
      "                     'b': <class 'int'>,\n",
      "                     'camelCase': <class 'int'>,\n",
      "                     'snake_case': <class 'int'>},\n",
      " '__builtin__': <module 'builtins' (built-in)>,\n",
      " '__builtins__': <module 'builtins' (built-in)>,\n",
      " '__doc__': 'Automatically created module for IPython interactive environment',\n",
      " '__loader__': None,\n",
      " '__name__': '__main__',\n",
      " '__package__': None,\n",
      " '__spec__': None,\n",
      " '__vsc_ipynb_file__': 'c:\\\\Lab\\\\Algorithm\\\\1_python\\\\1_python-syntax\\\\python-sytax.ipynb',\n",
      " '_dh': [WindowsPath('c:/Lab/Algorithm/1_python/1_python-syntax'),\n",
      "         WindowsPath('c:/Lab/Algorithm/1_python/1_python-syntax')],\n",
      " '_i': 'class MyClass(object):\\n'\n",
      "       '    def method_a(self):\\n'\n",
      "       '        pass\\n'\n",
      "       '\\n'\n",
      "       '    def method_b(self):\\n'\n",
      "       '        print(\"Method B\")\\n'\n",
      "       '\\n'\n",
      "       'c = MyClass()',\n",
      " '_i1': 'def add(\\n'\n",
      "        '    var_one, var_two, var_three,\\n'\n",
      "        '    var_four):\\n'\n",
      "        '    return var_one+var_two+var_three+var_four',\n",
      " '_i10': 'def generator():\\n'\n",
      "         '    yield 1\\n'\n",
      "         \"    yield 'string'\\n\"\n",
      "         '    yield True\\n'\n",
      "         '\\n'\n",
      "         'g = generator()\\n'\n",
      "         '\\n'\n",
      "         'for _ in range(0, 3):\\n'\n",
      "         '    print(next(g))',\n",
      " '_i11': '[range(5)]',\n",
      " '_i12': 'list(range(5))',\n",
      " '_i13': 'range(5)',\n",
      " '_i14': 'type(range(5))',\n",
      " '_i15': \"for i in range(5):\\n    print(i, end='')\",\n",
      " '_i16': \"for i in range(5):\\n    print(i, end=' ')\",\n",
      " '_i17': 'list_a = [n for n in range(100)]\\n'\n",
      "         'list_b = range(100)\\n'\n",
      "         '\\n'\n",
      "         'print(len(list_a))\\n'\n",
      "         'print(len(list_b))',\n",
      " '_i18': 'list_a = [n for n in range(100)]\\n'\n",
      "         'list_b = range(100)\\n'\n",
      "         '\\n'\n",
      "         'print(len(list_a))\\n'\n",
      "         'print(len(list_b))\\n'\n",
      "         'print(len(list_a) == len(list_b))',\n",
      " '_i19': 'import sys\\n'\n",
      "         '\\n'\n",
      "         'print(\"memory of list_a : \", sys.getsizeof(list_a))\\n'\n",
      "         'print(\"memory of list_b : \", sys.getsizeof(list_b))',\n",
      " '_i2': 'var_one = 1\\n'\n",
      "        'var_two = 2\\n'\n",
      "        'var_three = 3\\n'\n",
      "        'var_four = 4\\n'\n",
      "        '\\n'\n",
      "        'foo = add(var_one, var_two,\\n'\n",
      "        '          var_three, var_four)',\n",
      " '_i20': 'list_b[99]',\n",
      " '_i21': 'a = [1, 2, 3, 2, 45, 2, 5]',\n",
      " '_i22': 'enumerate(a)',\n",
      " '_i23': 'list(enumerate(a))',\n",
      " '_i24': \"a = ['a1', 'b2', 'c3']\",\n",
      " '_i25': 'for i in range(len(a)):\\n    print(i, a[i])',\n",
      " '_i26': 'i = 0\\n\\nfor v in a:\\n    print(i, v)\\n    i += 1',\n",
      " '_i27': 'for i, v in enumerate(a):\\n    print(i, v)',\n",
      " '_i28': \"# '/' 연산자\\nprint(5/3)\\nprint(type(5/3))\",\n",
      " '_i29': \"# '//' 연산자\\n# int(a/b) 와 동일함.\\nprint(5//3)\\nprint(type(5//3))\",\n",
      " '_i3': '# 카멜 케이스\\ncamelCase: int = 1\\n\\n# 스네이크 케이스\\nsnake_case: int = 1',\n",
      " '_i30': \"# '//' 연산자\\n\"\n",
      "         '# int(a/b) 와 동일함.\\n'\n",
      "         'print(5//3)\\n'\n",
      "         'print(int(5/3))\\n'\n",
      "         'print(type(5//3))',\n",
      " '_i31': \"# '//' 연산자\\n\"\n",
      "         '# int(a/b) 와 동일함.\\n'\n",
      "         'print(5//3)\\n'\n",
      "         'print(int(5/3))\\n'\n",
      "         'print(type(5//3))\\n'\n",
      "         'print(type(int(5/3)))',\n",
      " '_i32': \"print('A1', 'B2')\",\n",
      " '_i33': \"print('A1', 'B2', sep=',')\",\n",
      " '_i34': \"print('aa', end=' ')\\nprint('bb')\",\n",
      " '_i35': \"a = ['A', 'B']\\nprint(' '.join(a))\",\n",
      " '_i36': \"a = ['A', 'B']\\nprint(''.join(a))\",\n",
      " '_i37': \"a = ['A', 'B']\\nprint(' '.join(a))\",\n",
      " '_i38': 'idx = 1\\n'\n",
      "         \"fruit = 'Apple'\\n\"\n",
      "         '\\n'\n",
      "         '# Case 1\\n'\n",
      "         \"print('{}: {}'.format(idx + 1, fruit))\\n\"\n",
      "         '\\n'\n",
      "         '# Case 2\\n'\n",
      "         \"print(f'{idx+1}: {fruit}')\",\n",
      " '_i39': 'idx = 1\\n'\n",
      "         \"fruit = 'Apple'\\n\"\n",
      "         '\\n'\n",
      "         '# Case 1\\n'\n",
      "         \"print('{}: {}'.format(idx + 1, fruit))\\n\"\n",
      "         '\\n'\n",
      "         '# Case 2 : f-string\\n'\n",
      "         \"print(f'{idx+1}: {fruit}')\",\n",
      " '_i4': '# 타입 힌트 예시\\n\\n## string\\na: str = \"1\"\\n\\n## int\\nb: int = 1',\n",
      " '_i40': 'class MyClass(object):\\n'\n",
      "         '    def method_a(self):\\n'\n",
      "         '        pass\\n'\n",
      "         '\\n'\n",
      "         '    def method_b(self):\\n'\n",
      "         '        print(\"Method B\")\\n'\n",
      "         '\\n'\n",
      "         'c = MyClass()',\n",
      " '_i41': 'import pprint\\n\\npprint.pprint(locals())',\n",
      " '_i5': '# 타입 힌트를 사용하지 않은 함수 정의\\n'\n",
      "        'def fn(a):\\n'\n",
      "        '    return a\\n'\n",
      "        '\\n'\n",
      "        '# 타입 힌트를 사용한 함수 정의\\n'\n",
      "        'def fn(a: int) -> bool:\\n'\n",
      "        '    if a==1 : return True\\n'\n",
      "        '    else : return False',\n",
      " '_i6': '# 리스트 컴프리헨션을 사용하는 경우\\n'\n",
      "        'list_a = [n * 2 for n in range(1, 10+1) if n % 2 == 1]\\n'\n",
      "        \"print('list_a : ', list_a)\\n\"\n",
      "        '\\n'\n",
      "        '# 리스트 컴프리헨션을 사용하지 않는 경우\\n'\n",
      "        'list_b = []\\n'\n",
      "        'for n in range(1, 10+1):\\n'\n",
      "        '    if n % 2 == 1:\\n'\n",
      "        '        list_b.append(n * 2)\\n'\n",
      "        \"print('list_b : ', list_b)\",\n",
      " '_i7': '## 무한 루프를 이용하여 자연수를 계속 내보내는 제너레이터 생성\\n'\n",
      "        '\\n'\n",
      "        'def get_natural_number():\\n'\n",
      "        '    n = 0\\n'\n",
      "        '    while True:\\n'\n",
      "        '        n += 1\\n'\n",
      "        '        yield n',\n",
      " '_i8': 'get_natural_number()',\n",
      " '_i9': 'g = get_natural_number()\\nfor _ in range(0, 15):\\n    print(next(g))',\n",
      " '_ih': ['',\n",
      "         'def add(\\n'\n",
      "         '    var_one, var_two, var_three,\\n'\n",
      "         '    var_four):\\n'\n",
      "         '    return var_one+var_two+var_three+var_four',\n",
      "         'var_one = 1\\n'\n",
      "         'var_two = 2\\n'\n",
      "         'var_three = 3\\n'\n",
      "         'var_four = 4\\n'\n",
      "         '\\n'\n",
      "         'foo = add(var_one, var_two,\\n'\n",
      "         '          var_three, var_four)',\n",
      "         '# 카멜 케이스\\ncamelCase: int = 1\\n\\n# 스네이크 케이스\\nsnake_case: int = 1',\n",
      "         '# 타입 힌트 예시\\n\\n## string\\na: str = \"1\"\\n\\n## int\\nb: int = 1',\n",
      "         '# 타입 힌트를 사용하지 않은 함수 정의\\n'\n",
      "         'def fn(a):\\n'\n",
      "         '    return a\\n'\n",
      "         '\\n'\n",
      "         '# 타입 힌트를 사용한 함수 정의\\n'\n",
      "         'def fn(a: int) -> bool:\\n'\n",
      "         '    if a==1 : return True\\n'\n",
      "         '    else : return False',\n",
      "         '# 리스트 컴프리헨션을 사용하는 경우\\n'\n",
      "         'list_a = [n * 2 for n in range(1, 10+1) if n % 2 == 1]\\n'\n",
      "         \"print('list_a : ', list_a)\\n\"\n",
      "         '\\n'\n",
      "         '# 리스트 컴프리헨션을 사용하지 않는 경우\\n'\n",
      "         'list_b = []\\n'\n",
      "         'for n in range(1, 10+1):\\n'\n",
      "         '    if n % 2 == 1:\\n'\n",
      "         '        list_b.append(n * 2)\\n'\n",
      "         \"print('list_b : ', list_b)\",\n",
      "         '## 무한 루프를 이용하여 자연수를 계속 내보내는 제너레이터 생성\\n'\n",
      "         '\\n'\n",
      "         'def get_natural_number():\\n'\n",
      "         '    n = 0\\n'\n",
      "         '    while True:\\n'\n",
      "         '        n += 1\\n'\n",
      "         '        yield n',\n",
      "         'get_natural_number()',\n",
      "         'g = get_natural_number()\\nfor _ in range(0, 15):\\n    print(next(g))',\n",
      "         'def generator():\\n'\n",
      "         '    yield 1\\n'\n",
      "         \"    yield 'string'\\n\"\n",
      "         '    yield True\\n'\n",
      "         '\\n'\n",
      "         'g = generator()\\n'\n",
      "         '\\n'\n",
      "         'for _ in range(0, 3):\\n'\n",
      "         '    print(next(g))',\n",
      "         '[range(5)]',\n",
      "         'list(range(5))',\n",
      "         'range(5)',\n",
      "         'type(range(5))',\n",
      "         \"for i in range(5):\\n    print(i, end='')\",\n",
      "         \"for i in range(5):\\n    print(i, end=' ')\",\n",
      "         'list_a = [n for n in range(100)]\\n'\n",
      "         'list_b = range(100)\\n'\n",
      "         '\\n'\n",
      "         'print(len(list_a))\\n'\n",
      "         'print(len(list_b))',\n",
      "         'list_a = [n for n in range(100)]\\n'\n",
      "         'list_b = range(100)\\n'\n",
      "         '\\n'\n",
      "         'print(len(list_a))\\n'\n",
      "         'print(len(list_b))\\n'\n",
      "         'print(len(list_a) == len(list_b))',\n",
      "         'import sys\\n'\n",
      "         '\\n'\n",
      "         'print(\"memory of list_a : \", sys.getsizeof(list_a))\\n'\n",
      "         'print(\"memory of list_b : \", sys.getsizeof(list_b))',\n",
      "         'list_b[99]',\n",
      "         'a = [1, 2, 3, 2, 45, 2, 5]',\n",
      "         'enumerate(a)',\n",
      "         'list(enumerate(a))',\n",
      "         \"a = ['a1', 'b2', 'c3']\",\n",
      "         'for i in range(len(a)):\\n    print(i, a[i])',\n",
      "         'i = 0\\n\\nfor v in a:\\n    print(i, v)\\n    i += 1',\n",
      "         'for i, v in enumerate(a):\\n    print(i, v)',\n",
      "         \"# '/' 연산자\\nprint(5/3)\\nprint(type(5/3))\",\n",
      "         \"# '//' 연산자\\n# int(a/b) 와 동일함.\\nprint(5//3)\\nprint(type(5//3))\",\n",
      "         \"# '//' 연산자\\n\"\n",
      "         '# int(a/b) 와 동일함.\\n'\n",
      "         'print(5//3)\\n'\n",
      "         'print(int(5/3))\\n'\n",
      "         'print(type(5//3))',\n",
      "         \"# '//' 연산자\\n\"\n",
      "         '# int(a/b) 와 동일함.\\n'\n",
      "         'print(5//3)\\n'\n",
      "         'print(int(5/3))\\n'\n",
      "         'print(type(5//3))\\n'\n",
      "         'print(type(int(5/3)))',\n",
      "         \"print('A1', 'B2')\",\n",
      "         \"print('A1', 'B2', sep=',')\",\n",
      "         \"print('aa', end=' ')\\nprint('bb')\",\n",
      "         \"a = ['A', 'B']\\nprint(' '.join(a))\",\n",
      "         \"a = ['A', 'B']\\nprint(''.join(a))\",\n",
      "         \"a = ['A', 'B']\\nprint(' '.join(a))\",\n",
      "         'idx = 1\\n'\n",
      "         \"fruit = 'Apple'\\n\"\n",
      "         '\\n'\n",
      "         '# Case 1\\n'\n",
      "         \"print('{}: {}'.format(idx + 1, fruit))\\n\"\n",
      "         '\\n'\n",
      "         '# Case 2\\n'\n",
      "         \"print(f'{idx+1}: {fruit}')\",\n",
      "         'idx = 1\\n'\n",
      "         \"fruit = 'Apple'\\n\"\n",
      "         '\\n'\n",
      "         '# Case 1\\n'\n",
      "         \"print('{}: {}'.format(idx + 1, fruit))\\n\"\n",
      "         '\\n'\n",
      "         '# Case 2 : f-string\\n'\n",
      "         \"print(f'{idx+1}: {fruit}')\",\n",
      "         'class MyClass(object):\\n'\n",
      "         '    def method_a(self):\\n'\n",
      "         '        pass\\n'\n",
      "         '\\n'\n",
      "         '    def method_b(self):\\n'\n",
      "         '        print(\"Method B\")\\n'\n",
      "         '\\n'\n",
      "         'c = MyClass()',\n",
      "         'import pprint\\n\\npprint.pprint(locals())'],\n",
      " '_ii': 'idx = 1\\n'\n",
      "        \"fruit = 'Apple'\\n\"\n",
      "        '\\n'\n",
      "        '# Case 1\\n'\n",
      "        \"print('{}: {}'.format(idx + 1, fruit))\\n\"\n",
      "        '\\n'\n",
      "        '# Case 2 : f-string\\n'\n",
      "        \"print(f'{idx+1}: {fruit}')\",\n",
      " '_iii': 'idx = 1\\n'\n",
      "         \"fruit = 'Apple'\\n\"\n",
      "         '\\n'\n",
      "         '# Case 1\\n'\n",
      "         \"print('{}: {}'.format(idx + 1, fruit))\\n\"\n",
      "         '\\n'\n",
      "         '# Case 2\\n'\n",
      "         \"print(f'{idx+1}: {fruit}')\",\n",
      " '_oh': {8: <generator object get_natural_number at 0x00000150E0B2CA00>,\n",
      "         11: [range(0, 5)],\n",
      "         12: [0, 1, 2, 3, 4],\n",
      "         13: range(0, 5),\n",
      "         14: <class 'range'>,\n",
      "         20: 99,\n",
      "         22: <enumerate object at 0x00000150E0B56B10>,\n",
      "         23: [(0, 1), (1, 2), (2, 3), (3, 2), (4, 45), (5, 2), (6, 5)]},\n",
      " 'a': ['A', 'B'],\n",
      " 'add': <function add at 0x00000150E0B24360>,\n",
      " 'b': 1,\n",
      " 'c': <__main__.MyClass object at 0x00000150E0B5BA90>,\n",
      " 'camelCase': 1,\n",
      " 'exit': <IPython.core.autocall.ZMQExitAutocall object at 0x00000150E0AAE690>,\n",
      " 'fn': <function fn at 0x00000150E0B251C0>,\n",
      " 'foo': 10,\n",
      " 'fruit': 'Apple',\n",
      " 'g': <generator object generator at 0x00000150E089AA30>,\n",
      " 'generator': <function generator at 0x00000150E0B258A0>,\n",
      " 'get_ipython': <bound method InteractiveShell.get_ipython of <ipykernel.zmqshell.ZMQInteractiveShell object at 0x00000150E0A54C10>>,\n",
      " 'get_natural_number': <function get_natural_number at 0x00000150E0B254E0>,\n",
      " 'i': 2,\n",
      " 'idx': 1,\n",
      " 'list_a': [0,\n",
      "            1,\n",
      "            2,\n",
      "            3,\n",
      "            4,\n",
      "            5,\n",
      "            6,\n",
      "            7,\n",
      "            8,\n",
      "            9,\n",
      "            10,\n",
      "            11,\n",
      "            12,\n",
      "            13,\n",
      "            14,\n",
      "            15,\n",
      "            16,\n",
      "            17,\n",
      "            18,\n",
      "            19,\n",
      "            20,\n",
      "            21,\n",
      "            22,\n",
      "            23,\n",
      "            24,\n",
      "            25,\n",
      "            26,\n",
      "            27,\n",
      "            28,\n",
      "            29,\n",
      "            30,\n",
      "            31,\n",
      "            32,\n",
      "            33,\n",
      "            34,\n",
      "            35,\n",
      "            36,\n",
      "            37,\n",
      "            38,\n",
      "            39,\n",
      "            40,\n",
      "            41,\n",
      "            42,\n",
      "            43,\n",
      "            44,\n",
      "            45,\n",
      "            46,\n",
      "            47,\n",
      "            48,\n",
      "            49,\n",
      "            50,\n",
      "            51,\n",
      "            52,\n",
      "            53,\n",
      "            54,\n",
      "            55,\n",
      "            56,\n",
      "            57,\n",
      "            58,\n",
      "            59,\n",
      "            60,\n",
      "            61,\n",
      "            62,\n",
      "            63,\n",
      "            64,\n",
      "            65,\n",
      "            66,\n",
      "            67,\n",
      "            68,\n",
      "            69,\n",
      "            70,\n",
      "            71,\n",
      "            72,\n",
      "            73,\n",
      "            74,\n",
      "            75,\n",
      "            76,\n",
      "            77,\n",
      "            78,\n",
      "            79,\n",
      "            80,\n",
      "            81,\n",
      "            82,\n",
      "            83,\n",
      "            84,\n",
      "            85,\n",
      "            86,\n",
      "            87,\n",
      "            88,\n",
      "            89,\n",
      "            90,\n",
      "            91,\n",
      "            92,\n",
      "            93,\n",
      "            94,\n",
      "            95,\n",
      "            96,\n",
      "            97,\n",
      "            98,\n",
      "            99],\n",
      " 'list_b': range(0, 100),\n",
      " 'n': 10,\n",
      " 'open': <function open at 0x00000150DEA7FBA0>,\n",
      " 'pprint': <module 'pprint' from 'c:\\\\Users\\\\marti\\\\AppData\\\\Local\\\\anaconda3\\\\envs\\\\ml_env\\\\Lib\\\\pprint.py'>,\n",
      " 'quit': <IPython.core.autocall.ZMQExitAutocall object at 0x00000150E0AAE690>,\n",
      " 'snake_case': 1,\n",
      " 'sys': <module 'sys' (built-in)>,\n",
      " 'v': 'c3',\n",
      " 'var_four': 4,\n",
      " 'var_one': 1,\n",
      " 'var_three': 3,\n",
      " 'var_two': 2}\n"
     ]
    }
   ],
   "source": [
    "import pprint\n",
    "\n",
    "pprint.pprint(locals())"
   ]
  }
 ],
 "metadata": {
  "kernelspec": {
   "display_name": "ml_env",
   "language": "python",
   "name": "python3"
  },
  "language_info": {
   "codemirror_mode": {
    "name": "ipython",
    "version": 3
   },
   "file_extension": ".py",
   "mimetype": "text/x-python",
   "name": "python",
   "nbconvert_exporter": "python",
   "pygments_lexer": "ipython3",
   "version": "3.11.4"
  },
  "orig_nbformat": 4
 },
 "nbformat": 4,
 "nbformat_minor": 2
}
