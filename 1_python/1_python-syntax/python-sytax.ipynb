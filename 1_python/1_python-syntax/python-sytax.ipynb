{
 "cells": [
  {
   "cell_type": "markdown",
   "metadata": {},
   "source": [
    "# 1. 파이썬 문법\n",
    "------------------"
   ]
  },
  {
   "cell_type": "markdown",
   "metadata": {},
   "source": [
    "## 1-1 인덴트"
   ]
  },
  {
   "cell_type": "markdown",
   "metadata": {},
   "source": [
    "**인덴트** : 들여쓰기. 파이썬 문법의 대표적 특징\n",
    "- PEP 8 (파이썬 공식 가이드)에 따라 **공백 4칸**을 원칙으로 함."
   ]
  },
  {
   "cell_type": "code",
   "execution_count": 2,
   "metadata": {},
   "outputs": [],
   "source": [
    "def add(\n",
    "    var_one, var_two, var_three,\n",
    "    var_four):\n",
    "    return var_one+var_two+var_three+var_four"
   ]
  },
  {
   "cell_type": "markdown",
   "metadata": {},
   "source": [
    "- 위와 같이 첫 번째 줄에 파라미터가 없다면, <u>공백 4칸 인덴트를 한 번 더 추가</u>하여 다른 행과 구분한다."
   ]
  },
  {
   "cell_type": "code",
   "execution_count": 3,
   "metadata": {},
   "outputs": [],
   "source": [
    "var_one = 1\n",
    "var_two = 2\n",
    "var_three = 3\n",
    "var_four = 4\n",
    "\n",
    "foo = add(var_one, var_two,\n",
    "          var_three, var_four)"
   ]
  },
  {
   "cell_type": "markdown",
   "metadata": {},
   "source": [
    "- 위와 같이 첫 번째 줄에 파라미터가 있다면, <u>파라미터가 시작되는 부분에 맞춘다.</u>"
   ]
  },
  {
   "cell_type": "markdown",
   "metadata": {},
   "source": [
    "## 1-2 네이밍 컨벤션"
   ]
  },
  {
   "cell_type": "markdown",
   "metadata": {},
   "source": [
    "**네이밍 컨벤션** : 함수, 변수 등의 이름을 정하는 방법\n",
    "- 파이썬의 경우 <u>스네이크 케이스(snake case)</u>를 따른다.\n",
    "- 파이썬의 PEP 8 및 철학에 따라 스네이크 케이스를 지향함."
   ]
  },
  {
   "cell_type": "code",
   "execution_count": 4,
   "metadata": {},
   "outputs": [],
   "source": [
    "# 카멜 케이스\n",
    "camelCase: int = 1\n",
    "\n",
    "# 스네이크 케이스\n",
    "snake_case: int = 1"
   ]
  },
  {
   "cell_type": "markdown",
   "metadata": {},
   "source": [
    "## 1-3 타입 힌트\n",
    "**타입 힌트** : 변수의 타입(자료형)을 지정하도록 하는 문법\n",
    "- 파이썬 3.5이상에서 사용가능"
   ]
  },
  {
   "cell_type": "code",
   "execution_count": 5,
   "metadata": {},
   "outputs": [],
   "source": [
    "# 타입 힌트 예시\n",
    "\n",
    "## string\n",
    "a: str = \"1\"\n",
    "\n",
    "## int\n",
    "b: int = 1"
   ]
  },
  {
   "cell_type": "code",
   "execution_count": 6,
   "metadata": {},
   "outputs": [],
   "source": [
    "# 타입 힌트를 사용하지 않은 함수 정의\n",
    "def fn(a):\n",
    "    return a\n",
    "\n",
    "# 타입 힌트를 사용한 함수 정의\n",
    "def fn(a: int) -> bool:\n",
    "    if a==1 : return True\n",
    "    else : return False"
   ]
  },
  {
   "cell_type": "markdown",
   "metadata": {},
   "source": [
    "위의 두 번쨰 함수 정의에서 처럼 **입력인자의 자료형**과 **함수의 반환값의 형태**를 미리 지정할 수 있다.\n",
    "- 이러한 방식은 <u>가독성을 좋게</u>하며, <u>버그 발생 확률을 낮출 수 있다.</u>"
   ]
  },
  {
   "cell_type": "markdown",
   "metadata": {},
   "source": [
    "## 1-4 리스트 컴프리헨션\n",
    "**리스트 컴프리헨션** : 기존 리스트를 기반으로 새로운 리스트를 만들어내는 구문\n",
    "- 람다 표현식에 'map'이나 'fliter'를 섞어서 사용하는 것에 비해 가독성이 훨씬 좋다."
   ]
  },
  {
   "cell_type": "code",
   "execution_count": 7,
   "metadata": {},
   "outputs": [
    {
     "name": "stdout",
     "output_type": "stream",
     "text": [
      "list_a :  [2, 6, 10, 14, 18]\n",
      "list_b :  [2, 6, 10, 14, 18]\n"
     ]
    }
   ],
   "source": [
    "# 리스트 컴프리헨션을 사용하는 경우\n",
    "list_a = [n * 2 for n in range(1, 10+1) if n % 2 == 1]\n",
    "print('list_a : ', list_a)\n",
    "\n",
    "# 리스트 컴프리헨션을 사용하지 않는 경우\n",
    "list_b = []\n",
    "for n in range(1, 10+1):\n",
    "    if n % 2 == 1:\n",
    "        list_b.append(n * 2)\n",
    "print('list_b : ', list_b)"
   ]
  },
  {
   "cell_type": "markdown",
   "metadata": {},
   "source": [
    "파이썬 2.7 이후 부터 리스트 외에도 **딕셔너리** 등 다른 자료형에서도 사용할 수 있다."
   ]
  },
  {
   "cell_type": "markdown",
   "metadata": {},
   "source": [
    "## 1-5 제너레이터\n",
    "**제너레이터** : <u>루프의 반복(Iteration)</u>을 제어할 수 있는 루틴 형태\n",
    "- 예를 들어, 숫자 1억 개를 만들어내 계산하는 프로그램을 작성해야 한다면..\n",
    "    - 숫자 1억 개를 메모리 어딘가에 보관하는 대신에, <u>제너레이터만 생성하여 필요할 때 숫자를 만들어 낼 수 있다.</u>"
   ]
  },
  {
   "cell_type": "markdown",
   "metadata": {},
   "source": [
    "`yield` 구문을 사용하여 **제너레이터**를 리턴할 수 있다.\n",
    "- 기존의 함수는 `return` 구문을 만나면 값을 리턴하고 모든 함수의 동작을 종료함.\n",
    "- 그러나 `yield` 는 제너레이터가 여기까지 실행 중이던 값을 내보낸다는 의미\n",
    "    - 중간값을 리턴하고 함수는 종료되지 않고 계속해서 맨 끝까지 실행됨.\n",
    "    - **무한 루프**를 이용하여 계속해서 값을 내보내도록 제너레이터를 생성할 수 도 있다."
   ]
  },
  {
   "cell_type": "code",
   "execution_count": 8,
   "metadata": {},
   "outputs": [],
   "source": [
    "## 무한 루프를 이용하여 자연수를 계속 내보내는 제너레이터 생성\n",
    "\n",
    "def get_natural_number():\n",
    "    n = 0\n",
    "    while True:\n",
    "        n += 1\n",
    "        yield n"
   ]
  },
  {
   "cell_type": "code",
   "execution_count": 9,
   "metadata": {},
   "outputs": [
    {
     "data": {
      "text/plain": [
       "<generator object get_natural_number at 0x00000265A9CBCD00>"
      ]
     },
     "execution_count": 9,
     "metadata": {},
     "output_type": "execute_result"
    }
   ],
   "source": [
    "get_natural_number()"
   ]
  },
  {
   "cell_type": "markdown",
   "metadata": {},
   "source": [
    "위와 같이 함수의 리턴값이 `제너레이터`임을 알 수 있다."
   ]
  },
  {
   "cell_type": "code",
   "execution_count": 10,
   "metadata": {},
   "outputs": [
    {
     "name": "stdout",
     "output_type": "stream",
     "text": [
      "1\n",
      "2\n",
      "3\n",
      "4\n",
      "5\n",
      "6\n",
      "7\n",
      "8\n",
      "9\n",
      "10\n",
      "11\n",
      "12\n",
      "13\n",
      "14\n",
      "15\n"
     ]
    }
   ],
   "source": [
    "g = get_natural_number()\n",
    "for _ in range(0, 15):\n",
    "    print(next(g))"
   ]
  },
  {
   "cell_type": "markdown",
   "metadata": {},
   "source": [
    "위와 같이 `next()` 구문을 이용하여 제너레이터에서 다음 값을 추출할 수 있다."
   ]
  },
  {
   "cell_type": "markdown",
   "metadata": {},
   "source": [
    "제너레이터는 다음 코드와 같이 <u>여러 타입의 값을 하나의 함수에서 생성하는 것도 가능</u>하다."
   ]
  },
  {
   "cell_type": "code",
   "execution_count": 13,
   "metadata": {},
   "outputs": [
    {
     "name": "stdout",
     "output_type": "stream",
     "text": [
      "1\n",
      "string\n",
      "True\n"
     ]
    }
   ],
   "source": [
    "def generator():\n",
    "    yield 1\n",
    "    yield 'string'\n",
    "    yield True\n",
    "\n",
    "g = generator()\n",
    "\n",
    "for _ in range(0, 3):\n",
    "    print(next(g))"
   ]
  },
  {
   "cell_type": "markdown",
   "metadata": {},
   "source": [
    "## 1-6 range\n"
   ]
  },
  {
   "cell_type": "code",
   "execution_count": null,
   "metadata": {},
   "outputs": [],
   "source": []
  }
 ],
 "metadata": {
  "kernelspec": {
   "display_name": "ml_env",
   "language": "python",
   "name": "python3"
  },
  "language_info": {
   "codemirror_mode": {
    "name": "ipython",
    "version": 3
   },
   "file_extension": ".py",
   "mimetype": "text/x-python",
   "name": "python",
   "nbconvert_exporter": "python",
   "pygments_lexer": "ipython3",
   "version": "3.11.4"
  },
  "orig_nbformat": 4
 },
 "nbformat": 4,
 "nbformat_minor": 2
}
